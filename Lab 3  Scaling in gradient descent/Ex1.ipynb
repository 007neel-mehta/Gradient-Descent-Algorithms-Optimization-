{
  "nbformat": 4,
  "nbformat_minor": 0,
  "metadata": {
    "colab": {
      "name": "20i190008_IE684_Lab3_Ex1.ipynb",
      "provenance": [],
      "collapsed_sections": [
        "kXbMYQNze1Y5",
        "l94nGMW6wOPW",
        "lH7Mys-hxcrz",
        "2V5ZEnpq5smx",
        "K2sd__vlVZ6i"
      ]
    },
    "kernelspec": {
      "name": "python3",
      "display_name": "Python 3"
    }
  },
  "cells": [
    {
      "cell_type": "code",
      "metadata": {
        "id": "l2yiHKWu9btF"
      },
      "source": [
        "import pandas as pd\n",
        "import matplotlib.pyplot as plt"
      ],
      "execution_count": null,
      "outputs": []
    },
    {
      "cell_type": "markdown",
      "metadata": {
        "id": "nVE0Xoa0Q5wE"
      },
      "source": [
        "$\\Large\\textbf{Lab 3.}$ $\\large\\textbf{Exercise 1.}$\r\n",
        "\r\n"
      ]
    },
    {
      "cell_type": "markdown",
      "metadata": {
        "id": "b-Meohokl4xP"
      },
      "source": [
        "Consider the problem $\\min_{\\mathbf{x}} f(\\mathbf{x}) = 1000x_1^2 + 40x_1 x_2 +  x_2^2$. "
      ]
    },
    {
      "cell_type": "markdown",
      "metadata": {
        "id": "kC5h9vGOfLcr"
      },
      "source": [
        "$\\textbf{Question 1:}$ Based on our discussion on condition number and the derivation of the gradient descent scheme with scaling, can you identify and write down the matrix $\\mathbf{Q}$ whose condition number needs to be analyzed in the new gradient scheme with scaling? "
      ]
    },
    {
      "cell_type": "markdown",
      "metadata": {
        "id": "ZL8skZZIf8yd"
      },
      "source": [
        "$\\textbf{Your Answer:}$\r\n",
        "\r\n",
        "The matrix Q is the hessian matrix.\r\n",
        "\r\n",
        "$Q = Hessian = \\nabla^2f(x) = \\begin{bmatrix} \\frac{\\partial^2f}{\\partial x_1^2} & \\frac{\\partial^2f}{\\partial x_1 x_2} \\\\  \\frac{\\partial^2f}{\\partial x_1 x_2} & \\frac{\\partial^2f}{\\partial x_2^2}  \\end{bmatrix}  = \\begin{bmatrix} 2000 & 40 \\\\ 40 & 2 \\end{bmatrix}$\r\n",
        "\r\n",
        "*Note : Here the the function f(x) is a quadratic function, so when we calculate the hessian matric which is the $\\nabla^2f(x)$, x terms vanishes and we are only left with the coefficients.* ***So the hessian matrix does not depend of x and is constant and same for all values of x.***\r\n",
        "\r\n",
        "$\\\\ \\\\ $\r\n",
        "\r\n",
        "Also we see that the condition number is given by $\\kappa\\left (\\nabla^2 f(\\mathbf{x}) \\right ) = \\frac{\\lambda_{\\max} \\left (\\nabla^2 f(\\mathbf{x}) \\right )}{\\lambda_{\\min} \\left (\\nabla^2 f(\\mathbf{x}) \\right )}$, where $\\lambda_{\\max}(\\mathbf{A})$ denotes the maximum eigen value of matrix $\\mathbf{A}$ and $\\lambda_{\\min}(\\mathbf{A})$ denotes the minimum eigen value of matrix $\\mathbf{A}$\r\n",
        "\r\n",
        "$\\\\ \\\\ $\r\n",
        "\r\n",
        "Here we have $\\lambda_{\\max} = 2000.8 \\ \\ (approx) and \\ \\ \\lambda_{\\min} = 1.199 \\ (approx)$\r\n",
        "\r\n",
        "$\\\\ \\\\$\r\n",
        "\r\n",
        "Hence the condition number is $\\frac{2000.8}{1.199} = 1668.001$"
      ]
    },
    {
      "cell_type": "markdown",
      "metadata": {
        "id": "qrbWd2XigB2N"
      },
      "source": [
        "$\\textbf{Question 5:}$ Based on the matrix $\\mathbf{Q}$, can you come up with a useful choice for $\\mathbf{D}^k$ (assuming $\\mathbf{D}^k$ to be diagonal)?"
      ]
    },
    {
      "cell_type": "markdown",
      "metadata": {
        "id": "BTIH3LnUgRh6"
      },
      "source": [
        "$\\textbf{Your Answer:}$ \r\n",
        "\r\n",
        "We will choose the diagonal matrix $D^k$ as by choosing the diagonals elements from the hessian matrix and inversing them. In general, \r\n",
        "\r\n",
        "$(\\frac{\\partial^2f(x_k)}{(\\partial x^i)^2})^{-1}  \\ \\ \\ \\ \\ for \\ \\  i = 1,2,....,n$\r\n",
        "\r\n",
        "$Hence, \\ \\ D^k = \\begin{bmatrix} \\frac{1}{2000} & 0 \\\\ 0 & \\frac{1}{2} \\end{bmatrix}$\r\n",
        "\r\n",
        "Note : Since the $D^k$ matrix depend on the hessian matrix $Q$, and from above we already know that the Q matrix is independent of x. So our $D^k$ matrix is also constant and same for all values of ."
      ]
    },
    {
      "cell_type": "markdown",
      "metadata": {
        "id": "kXbMYQNze1Y5"
      },
      "source": [
        "# General Code for evalf,evalg, compute D, condition number, finding step length and find_minimizer"
      ]
    },
    {
      "cell_type": "code",
      "metadata": {
        "id": "72qwiJ0CDtOX"
      },
      "source": [
        "import numpy as np \r\n",
        "\r\n",
        "#method to find Hessian matrix\r\n",
        "def evalh(x): \r\n",
        "  assert type(x) is np.ndarray \r\n",
        "  assert len(x) == 2\r\n",
        "  return np.array([\r\n",
        "                   [2000, 40],\r\n",
        "                   [40,2]\r\n",
        "                   ])\r\n",
        "\r\n",
        "#method to find the condition number of any square matrix\r\n",
        "def find_condition_number(A):\r\n",
        "  assert type(A) is np.ndarray\r\n",
        "  assert A.shape[0] == A.shape[1]\r\n",
        "\r\n",
        "  return np.linalg.eig(A)[0][0] / np.linalg.eig(A)[0][1]\r\n",
        "\r\n",
        "\r\n"
      ],
      "execution_count": null,
      "outputs": []
    },
    {
      "cell_type": "code",
      "metadata": {
        "id": "KJq7tIgIRroP"
      },
      "source": [
        "#The method defines a way to construct D_k matrix used in scaling the gradient in the modified gradient descent scheme\r\n",
        "def compute_D_k(x):\r\n",
        "  assert type(x) is np.ndarray\r\n",
        "  assert len(x) == 2\r\n",
        "  return np.array([\r\n",
        "                   [1/(evalh(x)[0][0]),0],\r\n",
        "                   [0, 1/(evalh(x)[1][1])]\r\n",
        "                   ])\r\n",
        "  \r\n"
      ],
      "execution_count": null,
      "outputs": []
    },
    {
      "cell_type": "code",
      "metadata": {
        "id": "GZjX2IwOR8_X"
      },
      "source": [
        "#Now we will define a function which will compute and return the function value \r\n",
        "def evalf(x):  \r\n",
        "  #Input: x is a numpy array of size 2 \r\n",
        "  assert type(x) is np.ndarray and len(x) == 2 #do not allow arbitrary arguments \r\n",
        "  #after checking if the argument is valid, we can compute the objective function value\r\n",
        "  return 1000*(x[0]**2) + 40*x[0]*x[1] + x[1]**2\r\n",
        "  \r\n"
      ],
      "execution_count": null,
      "outputs": []
    },
    {
      "cell_type": "code",
      "metadata": {
        "id": "6klpwtDra_I8"
      },
      "source": [
        "#Now we will define a function which will compute and return the gradient value as a numpy array \r\n",
        "def evalg(x):  \r\n",
        "  #Input: x is a numpy array of size 2 \r\n",
        "  assert type(x) is np.ndarray and len(x) == 2 #do not allow arbitrary arguments \r\n",
        "  #after checking if the argument is valid, we can compute the gradient value\r\n",
        "  #compute the gradient value and return it \r\n",
        "  return np.array([2000*x[0] + 40*x[1], 40*x[0] + 2*x[1] ])\r\n",
        "  "
      ],
      "execution_count": null,
      "outputs": []
    },
    {
      "cell_type": "code",
      "metadata": {
        "id": "f3blM08V0HOl"
      },
      "source": [
        "#Complete the module to compute the steplength by using the closed-form expression\r\n",
        "def compute_steplength_exact(gradf, A): #add appropriate arguments to the function \r\n",
        "  assert type(gradf) is np.ndarray and len(gradf) == 2 \r\n",
        "  assert type(A) is np.ndarray and A.shape[0] == 2 and  A.shape[1] == 2 #allow only a 2x2 array\r\n",
        "   \r\n",
        "  step_length = (np.dot(gradf.T, gradf)) / (np.matmul(gradf.T,np.matmul(2*A,gradf)))\r\n",
        "  return step_length\r\n",
        "  "
      ],
      "execution_count": null,
      "outputs": []
    },
    {
      "cell_type": "code",
      "metadata": {
        "id": "PGunDYy6Q21S"
      },
      "source": [
        "#Complete the module to compute the steplength by using the closed-form expression\r\n",
        "def compute_steplength_backtracking(x, gradf, alpha_start, rho, gamma): #add appropriate arguments to the function \r\n",
        "  assert type(x) is np.ndarray and len(gradf) == 2 \r\n",
        "  assert type(gradf) is np.ndarray and len(gradf) == 2 \r\n",
        "  assert type(alpha_start) is float and alpha_start>=0. \r\n",
        "  assert type(rho) is float and rho>=0.\r\n",
        "  assert type(gamma) is float and gamma>=0. \r\n",
        "\r\n",
        "  alpha = alpha_start\r\n",
        "  p = -gradf\r\n",
        "\r\n",
        "  while (evalf(x + alpha*p) > (evalf(x) + gamma * alpha * np.dot(gradf.T, p)) ):\r\n",
        "    alpha = alpha*rho\r\n",
        "  \r\n",
        "  return alpha\r\n",
        "  \r\n",
        "  "
      ],
      "execution_count": null,
      "outputs": []
    },
    {
      "cell_type": "code",
      "metadata": {
        "id": "wqjdHM3eaHYf"
      },
      "source": [
        "def compute_steplength_backtracking_scaled_direction(x, gradf, direction, alpha_start, rho, gamma): #add appropriate arguments to the function \r\n",
        "  assert type(x) is np.ndarray and len(gradf) == 2 \r\n",
        "  assert type(gradf) is np.ndarray and len(gradf) == 2 \r\n",
        "  assert type(direction) is np.ndarray and len(direction) == 2 \r\n",
        "  assert type(alpha_start) is float and alpha_start>=0. \r\n",
        "  assert type(rho) is float and rho>=0.\r\n",
        "  assert type(gamma) is float and gamma>=0. \r\n",
        "\r\n",
        "  alpha = alpha_start\r\n",
        "  p = -gradf\r\n",
        "\r\n",
        "  while (evalf(x + alpha*np.matmul(direction,p)) > (evalf(x) + gamma * alpha * np.matmul(gradf.T, np.matmul(direction, p))) ):\r\n",
        "    alpha = alpha*rho\r\n",
        "  \r\n",
        "  return alpha\r\n",
        "  \r\n",
        "  \r\n",
        "  \r\n",
        "  #Complete the code "
      ],
      "execution_count": null,
      "outputs": []
    },
    {
      "cell_type": "code",
      "metadata": {
        "id": "GvLRu5s635ph"
      },
      "source": [
        "#line search type \r\n",
        "EXACT_LINE_SEARCH = 1\r\n",
        "BACKTRACKING_LINE_SEARCH = 2\r\n",
        "CONSTANT_STEP_LENGTH = 3"
      ],
      "execution_count": null,
      "outputs": []
    },
    {
      "cell_type": "code",
      "metadata": {
        "id": "kdYW5nldqZU-"
      },
      "source": [
        "#complete the code for gradient descent to find the minimizer\r\n",
        "def find_minimizer_gd(start_x, tol, line_search_type, *args):\r\n",
        "  #Input: start_x is a numpy array of size 2, tol denotes the tolerance and is a positive float value\r\n",
        "  assert type(start_x) is np.ndarray and len(start_x) == 2 #do not allow arbitrary arguments \r\n",
        "  assert type(tol) is float and tol>=0 \r\n",
        "\r\n",
        "  A = np.array([[1000, 20],[20, 2]])\r\n",
        "  x = start_x\r\n",
        "  g_x = evalg(x)\r\n",
        "  k = 0\r\n",
        "\r\n",
        "  if (line_search_type == BACKTRACKING_LINE_SEARCH):\r\n",
        "    alpha_start = args[0]\r\n",
        "    rho = args[1]\r\n",
        "    gamma = args[2] \r\n",
        "\r\n",
        "  while np.linalg.norm(g_x) > tol:\r\n",
        "\r\n",
        "    if line_search_type == EXACT_LINE_SEARCH:\r\n",
        "      step_length = compute_steplength_exact(g_x,A)\r\n",
        "\r\n",
        "    elif line_search_type == BACKTRACKING_LINE_SEARCH:\r\n",
        "      step_length = compute_steplength_backtracking(x,g_x, alpha_start,rho, gamma)\r\n",
        "\r\n",
        "    elif line_search_type == CONSTANT_STEP_LENGTH: \r\n",
        "      step_length = float(input('Enter a valid value for the constant step length.'))\r\n",
        "\r\n",
        "    else:  \r\n",
        "      raise ValueError('Line search type unknown. Please check!')\r\n",
        "\r\n",
        "    x = np.subtract(x, np.multiply(step_length,g_x)) \r\n",
        "    k += 1 \r\n",
        "    g_x = evalg(x)\r\n",
        "\r\n",
        "  return x, k\r\n",
        "\r\n"
      ],
      "execution_count": null,
      "outputs": []
    },
    {
      "cell_type": "code",
      "metadata": {
        "id": "3SCJdqivdpxx"
      },
      "source": [
        "#complete the code for gradient descent with scaling to find the minimizer\n",
        " \n",
        "def find_minimizer_gdscaling(start_x, tol, line_search_type, *args):\n",
        "  #Input: start_x is a numpy array of size 2, tol denotes the tolerance and is a positive float value\n",
        "  assert type(start_x) is np.ndarray and len(start_x) == 2 #do not allow arbitrary arguments \n",
        "  assert type(tol) is float and tol>=0 \n",
        " \n",
        "  x = start_x\n",
        "  g_x = evalg(x)\n",
        "  k = 0\n",
        "  \n",
        " \n",
        "  if (line_search_type == BACKTRACKING_LINE_SEARCH):\n",
        "    alpha_start = args[0]\n",
        "    rho = args[1]\n",
        "    gamma = args[2] \n",
        " \n",
        "  while np.linalg.norm(g_x) > tol:\n",
        " \n",
        "    #if line_search_type == EXACT_LINE_SEARCH:\n",
        "      #step_length = #step_length using exact line search with sclaing\n",
        " \n",
        "    d = compute_D_k(x)\n",
        "    if line_search_type == BACKTRACKING_LINE_SEARCH:\n",
        "      step_length = compute_steplength_backtracking_scaled_direction(x,g_x, d , alpha_start,rho, gamma)\n",
        " \n",
        "    #elif line_search_type == CONSTANT_STEP_LENGTH: \n",
        "      #step_length = float(input('Enter a valid value for the constant step length.'))\n",
        " \n",
        "    else:  \n",
        "      raise ValueError('Line search type unknown. Please check!')\n",
        " \n",
        "    x = np.subtract(x, step_length * np.matmul(d,g_x)) \n",
        "    k += 1 \n",
        "    g_x = evalg(x)\n",
        " \n",
        "  return x, k\n",
        " \n",
        "  #Complete the code"
      ],
      "execution_count": null,
      "outputs": []
    },
    {
      "cell_type": "markdown",
      "metadata": {
        "id": "l94nGMW6wOPW"
      },
      "source": [
        "# ***Part 7:*** *Minimizer and the minimum value for the function (Using scaling and backtracing approach)*"
      ]
    },
    {
      "cell_type": "code",
      "metadata": {
        "id": "3hoak3jnHkXd",
        "colab": {
          "base_uri": "https://localhost:8080/"
        },
        "outputId": "93a79136-ce7f-48c5-d923-bce2874d56b6"
      },
      "source": [
        "my_start_x = np.array([1.,2000.])\r\n",
        "my_tol= 1e-9\r\n",
        "alpha = 1.0\r\n",
        "rho = 0.5\r\n",
        "gamma = 0.5\r\n",
        "\r\n",
        "x, k = find_minimizer_gdscaling(my_start_x,my_tol,BACKTRACKING_LINE_SEARCH,alpha, rho, gamma)\r\n",
        "\r\n",
        "print('Optimal X :', x)\r\n",
        "print('The optimal value of f(x) : ', evalf(x))\r\n",
        "\r\n",
        "\r\n",
        "\r\n"
      ],
      "execution_count": null,
      "outputs": [
        {
          "output_type": "stream",
          "text": [
            "Optimal X : [-1.44991408e-12  5.09130136e-11]\n",
            "The optimal value of f(x) :  1.7416059877853944e-21\n"
          ],
          "name": "stdout"
        }
      ]
    },
    {
      "cell_type": "markdown",
      "metadata": {
        "id": "lH7Mys-hxcrz"
      },
      "source": [
        "# ***Part 8:*** *Minimizer and the minimum value for the function using ELS(without scaling), BLS (with and without scaling)*"
      ]
    },
    {
      "cell_type": "code",
      "metadata": {
        "id": "KpABILpQxPKD",
        "colab": {
          "base_uri": "https://localhost:8080/",
          "height": 143
        },
        "outputId": "5873fe01-ed03-47f7-a114-efd5232c600f"
      },
      "source": [
        "\r\n",
        "\r\n",
        "my_start_x = np.array([1.,2000.])\r\n",
        "my_tol= 10e-9\r\n",
        "alpha = 1.0\r\n",
        "rho = 0.5\r\n",
        "gamma = 0.5\r\n",
        "\r\n",
        "x_els, k_els = find_minimizer_gd(my_start_x,my_tol,EXACT_LINE_SEARCH)\r\n",
        "x_bls, k_bls = find_minimizer_gd(my_start_x,my_tol,BACKTRACKING_LINE_SEARCH,alpha, rho, gamma)\r\n",
        "x_bls_scaling, k_bls_scaling = find_minimizer_gdscaling(my_start_x,my_tol,BACKTRACKING_LINE_SEARCH,alpha, rho, gamma)\r\n",
        "\r\n",
        "df = pd.DataFrame(columns=['Method', 'Optimal X', 'Optimal f(x)', 'Iterations'])\r\n",
        "\r\n",
        "df['Method'] = ['ELS without Scaling', 'BLS without Scaling', 'BLS with Scaling']\r\n",
        "df['Optimal X'] = [x_els, x_bls, x_bls_scaling]\r\n",
        "df['Optimal f(x)'] = [evalf(x_els), evalf(x_bls), evalf(x_bls_scaling)]\r\n",
        "df['Iterations'] = [k_els, k_bls, k_bls_scaling]\r\n",
        "df\r\n",
        "\r\n",
        "\r\n"
      ],
      "execution_count": null,
      "outputs": [
        {
          "output_type": "execute_result",
          "data": {
            "text/html": [
              "<div>\n",
              "<style scoped>\n",
              "    .dataframe tbody tr th:only-of-type {\n",
              "        vertical-align: middle;\n",
              "    }\n",
              "\n",
              "    .dataframe tbody tr th {\n",
              "        vertical-align: top;\n",
              "    }\n",
              "\n",
              "    .dataframe thead th {\n",
              "        text-align: right;\n",
              "    }\n",
              "</style>\n",
              "<table border=\"1\" class=\"dataframe\">\n",
              "  <thead>\n",
              "    <tr style=\"text-align: right;\">\n",
              "      <th></th>\n",
              "      <th>Method</th>\n",
              "      <th>Optimal X</th>\n",
              "      <th>Optimal f(x)</th>\n",
              "      <th>Iterations</th>\n",
              "    </tr>\n",
              "  </thead>\n",
              "  <tbody>\n",
              "    <tr>\n",
              "      <th>0</th>\n",
              "      <td>ELS without Scaling</td>\n",
              "      <td>[-1.2355943843000838e-10, 6.0016200679154866e-09]</td>\n",
              "      <td>2.162411e-17</td>\n",
              "      <td>20847</td>\n",
              "    </tr>\n",
              "    <tr>\n",
              "      <th>1</th>\n",
              "      <td>BLS without Scaling</td>\n",
              "      <td>[-1.226531099775065e-10, 6.0437262240152715e-09]</td>\n",
              "      <td>2.191914e-17</td>\n",
              "      <td>500</td>\n",
              "    </tr>\n",
              "    <tr>\n",
              "      <th>2</th>\n",
              "      <td>BLS with Scaling</td>\n",
              "      <td>[-9.06196302620983e-12, 3.1820633527148966e-10]</td>\n",
              "      <td>6.803148e-20</td>\n",
              "      <td>64</td>\n",
              "    </tr>\n",
              "  </tbody>\n",
              "</table>\n",
              "</div>"
            ],
            "text/plain": [
              "                Method  ... Iterations\n",
              "0  ELS without Scaling  ...      20847\n",
              "1  BLS without Scaling  ...        500\n",
              "2     BLS with Scaling  ...         64\n",
              "\n",
              "[3 rows x 4 columns]"
            ]
          },
          "metadata": {
            "tags": []
          },
          "execution_count": 13
        }
      ]
    },
    {
      "cell_type": "code",
      "metadata": {
        "id": "1O6mjmQ79ZtQ"
      },
      "source": [
        ""
      ],
      "execution_count": null,
      "outputs": []
    },
    {
      "cell_type": "markdown",
      "metadata": {
        "id": "2V5ZEnpq5smx"
      },
      "source": [
        "\r\n",
        "# ***Part 9:*** *Behavior of the backtracking linesearch algorithms (with and without scaling) for different choices of $\\alpha^0$*\r\n",
        "\r\n",
        "$\\alpha^0 \\in {\\{ 1.0,0.9,0.75,0.6,0.5,0.4,0.25,0.1,0.01 \\}}$\r\n",
        "\r\n",
        "$x^0 = (1.0, 2000.0)$\r\n",
        "\r\n",
        "$\\tau = 10^{-9} $\r\n",
        "\r\n",
        "$\\rho \\ =\\ 0.5\\\\$\r\n",
        "\r\n",
        "$\\gamma \\ =\\ 0.5\\ $\r\n",
        "\r\n"
      ]
    },
    {
      "cell_type": "code",
      "metadata": {
        "colab": {
          "base_uri": "https://localhost:8080/",
          "height": 807
        },
        "id": "VjmJ1YDu6F1O",
        "outputId": "02e46a5c-2d45-4318-e5f4-b7953694daf7"
      },
      "source": [
        "my_start_x = np.array([5,5])\r\n",
        "my_tol= 10e-9\r\n",
        "\r\n",
        "alpha_arr = [1.0,0.9,0.75, 0.6,0.5,0.4,0.25,0.1,0.01]\r\n",
        "rho_ = 0.5\r\n",
        "gamma_ = 0.5\r\n",
        "\r\n",
        "x_arr_bls = []\r\n",
        "iter_bls = []\r\n",
        "\r\n",
        "x_arr_bls_scaling = []\r\n",
        "iter_bls_scaling = []\r\n",
        "\r\n",
        "for i in alpha_arr:\r\n",
        "\r\n",
        "  x, k = find_minimizer_gd(my_start_x,my_tol,BACKTRACKING_LINE_SEARCH,i, rho_, gamma_)\r\n",
        "  x_arr_bls.append(x)\r\n",
        "  iter_bls.append(k)\r\n",
        "\r\n",
        "  x, k = find_minimizer_gdscaling(my_start_x,my_tol,BACKTRACKING_LINE_SEARCH,i, rho, gamma)\r\n",
        "  x_arr_bls_scaling.append(x)\r\n",
        "  iter_bls_scaling.append(k)\r\n",
        "\r\n",
        "  \r\n",
        "\r\n",
        "\r\n",
        "df = pd.DataFrame(columns=['alpha', 'X_bls', 'f(X_bls)','Iterations_bls', 'X_bls_scaling', 'f(X_bls_scaling)', 'Iterations_bls_scaling'])\r\n",
        "\r\n",
        "df['alpha'] = alpha_arr\r\n",
        "df['X_bls'] = x_arr_bls\r\n",
        "df['f(X_bls)'] = df['X_bls'].apply(evalf)\r\n",
        "df['Iterations_bls'] = iter_bls\r\n",
        "df['X_bls_scaling'] = x_arr_bls_scaling\r\n",
        "df['f(X_bls_scaling)'] = df['X_bls_scaling'].apply(evalf)\r\n",
        "df['Iterations_bls_scaling'] = iter_bls_scaling\r\n",
        "\r\n",
        "\r\n",
        "\r\n",
        "\r\n",
        "display(df)\r\n",
        "\r\n",
        "print('\\n\\n')\r\n",
        "plt.plot(alpha_arr, iter_bls, label='BLS without Scaling')\r\n",
        "plt.plot(alpha_arr, iter_bls_scaling, label='BLS with Scaling')\r\n",
        "plt.xlabel('Initial Alpha')\r\n",
        "plt.ylabel('Iterations')\r\n",
        "plt.legend()\r\n",
        "plt.show()\r\n",
        "\r\n",
        "\r\n",
        "\r\n",
        "\r\n"
      ],
      "execution_count": null,
      "outputs": [
        {
          "output_type": "display_data",
          "data": {
            "text/html": [
              "<div>\n",
              "<style scoped>\n",
              "    .dataframe tbody tr th:only-of-type {\n",
              "        vertical-align: middle;\n",
              "    }\n",
              "\n",
              "    .dataframe tbody tr th {\n",
              "        vertical-align: top;\n",
              "    }\n",
              "\n",
              "    .dataframe thead th {\n",
              "        text-align: right;\n",
              "    }\n",
              "</style>\n",
              "<table border=\"1\" class=\"dataframe\">\n",
              "  <thead>\n",
              "    <tr style=\"text-align: right;\">\n",
              "      <th></th>\n",
              "      <th>alpha</th>\n",
              "      <th>X_bls</th>\n",
              "      <th>f(X_bls)</th>\n",
              "      <th>Iterations_bls</th>\n",
              "      <th>X_bls_scaling</th>\n",
              "      <th>f(X_bls_scaling)</th>\n",
              "      <th>Iterations_bls_scaling</th>\n",
              "    </tr>\n",
              "  </thead>\n",
              "  <tbody>\n",
              "    <tr>\n",
              "      <th>0</th>\n",
              "      <td>1.00</td>\n",
              "      <td>[-1.6174254708034478e-10, 8.07451047758225e-09]</td>\n",
              "      <td>3.911870e-17</td>\n",
              "      <td>358</td>\n",
              "      <td>[6.953557824660044e-12, -2.4499581972895506e-10]</td>\n",
              "      <td>4.023121e-20</td>\n",
              "      <td>59</td>\n",
              "    </tr>\n",
              "    <tr>\n",
              "      <th>1</th>\n",
              "      <td>0.90</td>\n",
              "      <td>[-1.6276152783169156e-10, 8.171995924844584e-09]</td>\n",
              "      <td>4.006937e-17</td>\n",
              "      <td>4315</td>\n",
              "      <td>[1.1559542784907062e-11, -3.6554483909406126e-10]</td>\n",
              "      <td>9.822481e-20</td>\n",
              "      <td>66</td>\n",
              "    </tr>\n",
              "    <tr>\n",
              "      <th>2</th>\n",
              "      <td>0.75</td>\n",
              "      <td>[-1.5015145572497233e-10, 7.597626810835278e-09]</td>\n",
              "      <td>3.463760e-17</td>\n",
              "      <td>13484</td>\n",
              "      <td>[1.1236933689329938e-11, -3.553430437456151e-10]</td>\n",
              "      <td>9.281871e-20</td>\n",
              "      <td>82</td>\n",
              "    </tr>\n",
              "    <tr>\n",
              "      <th>3</th>\n",
              "      <td>0.60</td>\n",
              "      <td>[-1.6232228357831127e-10, 8.069568553689346e-09]</td>\n",
              "      <td>3.907163e-17</td>\n",
              "      <td>6377</td>\n",
              "      <td>[1.3530536355111157e-11, -4.278731284586411e-10]</td>\n",
              "      <td>1.345767e-19</td>\n",
              "      <td>104</td>\n",
              "    </tr>\n",
              "    <tr>\n",
              "      <th>4</th>\n",
              "      <td>0.50</td>\n",
              "      <td>[-1.6174254708034478e-10, 8.07451047758225e-09]</td>\n",
              "      <td>3.911870e-17</td>\n",
              "      <td>358</td>\n",
              "      <td>[1.2469217620070448e-11, -3.9431128319726707e-10]</td>\n",
              "      <td>1.142926e-19</td>\n",
              "      <td>128</td>\n",
              "    </tr>\n",
              "    <tr>\n",
              "      <th>5</th>\n",
              "      <td>0.40</td>\n",
              "      <td>[-1.5752986305755104e-10, 7.943996248268485e-09]</td>\n",
              "      <td>3.786607e-17</td>\n",
              "      <td>12007</td>\n",
              "      <td>[1.3402952883574604e-11, -4.238385848401733e-10]</td>\n",
              "      <td>1.320507e-19</td>\n",
              "      <td>163</td>\n",
              "    </tr>\n",
              "    <tr>\n",
              "      <th>6</th>\n",
              "      <td>0.25</td>\n",
              "      <td>[-1.6174254708034478e-10, 8.07451047758225e-09]</td>\n",
              "      <td>3.911870e-17</td>\n",
              "      <td>358</td>\n",
              "      <td>[1.3296255099232803e-11, -4.204645046420379e-10]</td>\n",
              "      <td>1.299567e-19</td>\n",
              "      <td>269</td>\n",
              "    </tr>\n",
              "    <tr>\n",
              "      <th>7</th>\n",
              "      <td>0.10</td>\n",
              "      <td>[-1.5752986305755104e-10, 7.943996248268485e-09]</td>\n",
              "      <td>3.786607e-17</td>\n",
              "      <td>12007</td>\n",
              "      <td>[1.3489548667811633e-11, -4.265769839797486e-10]</td>\n",
              "      <td>1.337626e-19</td>\n",
              "      <td>692</td>\n",
              "    </tr>\n",
              "    <tr>\n",
              "      <th>8</th>\n",
              "      <td>0.01</td>\n",
              "      <td>[-1.5066121280357593e-10, 7.59291760378315e-09]</td>\n",
              "      <td>3.459287e-17</td>\n",
              "      <td>10371</td>\n",
              "      <td>[1.35597853056118e-11, -4.2879806148615606e-10]</td>\n",
              "      <td>1.351592e-19</td>\n",
              "      <td>7036</td>\n",
              "    </tr>\n",
              "  </tbody>\n",
              "</table>\n",
              "</div>"
            ],
            "text/plain": [
              "   alpha  ... Iterations_bls_scaling\n",
              "0   1.00  ...                     59\n",
              "1   0.90  ...                     66\n",
              "2   0.75  ...                     82\n",
              "3   0.60  ...                    104\n",
              "4   0.50  ...                    128\n",
              "5   0.40  ...                    163\n",
              "6   0.25  ...                    269\n",
              "7   0.10  ...                    692\n",
              "8   0.01  ...                   7036\n",
              "\n",
              "[9 rows x 7 columns]"
            ]
          },
          "metadata": {
            "tags": []
          }
        },
        {
          "output_type": "stream",
          "text": [
            "\n",
            "\n",
            "\n"
          ],
          "name": "stdout"
        },
        {
          "output_type": "display_data",
          "data": {
            "image/png": "[encoded data removed]",
            "text/plain": [
              "<Figure size 432x288 with 1 Axes>"
            ]
          },
          "metadata": {
            "tags": [],
            "needs_background": "light"
          }
        }
      ]
    },
    {
      "cell_type": "markdown",
      "metadata": {
        "id": "oDwWPP6P0ddb"
      },
      "source": [
        "***Remarks :*** *We observe that the number of iteration does not follow a certain pattern in this graph. In BLS with scaling, the graph is pretty neat. The number of iteration in BLS with scaling decreasesa as we increase the initial value of alpha, but similar trend can not be said of the BLS without scaling in which we observe regulaar spikes at certain points"
      ]
    },
    {
      "cell_type": "markdown",
      "metadata": {
        "id": "K2sd__vlVZ6i"
      },
      "source": [
        "\r\n",
        "# ***Part 10:*** *Behavior of the backtracking linesearch algorithms (with and without scaling) for different choices of $\\rho$*\r\n",
        "\r\n",
        "$\\rho \\in {\\{0.9,0.8,0.75,0.6,0.5,0.4,0.25,0.1,0.01 \\}}$\r\n",
        "\r\n",
        "$x^0 = (1.0, 2000.0)$\r\n",
        "\r\n",
        "$\\tau = 10^{-9} $\r\n",
        "\r\n",
        "$\\alpha = 1$\r\n",
        "\r\n",
        "$\\rho \\ =\\ 0.5\\\\$\r\n",
        "\r\n",
        "$\\gamma \\ =\\ 0.5\\ $\r\n",
        "\r\n"
      ]
    },
    {
      "cell_type": "code",
      "metadata": {
        "id": "w8kLsCwS8Ag1",
        "colab": {
          "base_uri": "https://localhost:8080/",
          "height": 805
        },
        "outputId": "a505bc28-bc07-48e9-9aed-4f398571e1bc"
      },
      "source": [
        "my_start_x = np.array([1.0, 2000.0])\r\n",
        "my_tol= 10e-9\r\n",
        "\r\n",
        "rho_arr = [0.9,0.8,0.75, 0.6,0.5,0.4,0.25,0.1,0.01]\r\n",
        "alpha = 1.0\r\n",
        "gamma_ = 0.5\r\n",
        "\r\n",
        "x_arr_bls = []\r\n",
        "iter_bls = []\r\n",
        "\r\n",
        "x_arr_bls_scaling = []\r\n",
        "iter_bls_scaling = []\r\n",
        "\r\n",
        "for i in rho_arr:\r\n",
        "\r\n",
        "  x, k = find_minimizer_gd(my_start_x,my_tol,BACKTRACKING_LINE_SEARCH,alpha ,i, gamma_)\r\n",
        "  x_arr_bls.append(x)\r\n",
        "  iter_bls.append(k)\r\n",
        "\r\n",
        "  x, k = find_minimizer_gdscaling(my_start_x,my_tol,BACKTRACKING_LINE_SEARCH,alpha,i, gamma)\r\n",
        "  x_arr_bls_scaling.append(x)\r\n",
        "  iter_bls_scaling.append(k)\r\n",
        "\r\n",
        "  \r\n",
        "\r\n",
        "df = pd.DataFrame(columns=['Rho', 'X_bls', 'f(X_bls)','Iterations_bls', 'X_bls_scaling', 'f(X_bls_scaling)', 'Iterations_bls_scaling'])\r\n",
        "\r\n",
        "df['Rho'] = rho_arr\r\n",
        "df['X_bls'] = x_arr_bls\r\n",
        "df['f(X_bls)'] = df['X_bls'].apply(evalf)\r\n",
        "df['Iterations_bls'] = iter_bls\r\n",
        "df['X_bls_scaling'] = x_arr_bls_scaling\r\n",
        "df['f(X_bls_scaling)'] = df['X_bls_scaling'].apply(evalf)\r\n",
        "df['Iterations_bls_scaling'] = iter_bls_scaling\r\n",
        "\r\n",
        "\r\n",
        "display(df)\r\n",
        "\r\n",
        "print('\\n\\n')\r\n",
        "plt.plot(rho_arr, iter_bls, label='BLS without Scaling')\r\n",
        "plt.plot(rho_arr, iter_bls_scaling, label='BLS with Scaling')\r\n",
        "plt.xlabel('Initial Rho')\r\n",
        "plt.ylabel('Iterations')\r\n",
        "plt.legend()\r\n",
        "plt.show()\r\n"
      ],
      "execution_count": null,
      "outputs": [
        {
          "output_type": "display_data",
          "data": {
            "text/html": [
              "<div>\n",
              "<style scoped>\n",
              "    .dataframe tbody tr th:only-of-type {\n",
              "        vertical-align: middle;\n",
              "    }\n",
              "\n",
              "    .dataframe tbody tr th {\n",
              "        vertical-align: top;\n",
              "    }\n",
              "\n",
              "    .dataframe thead th {\n",
              "        text-align: right;\n",
              "    }\n",
              "</style>\n",
              "<table border=\"1\" class=\"dataframe\">\n",
              "  <thead>\n",
              "    <tr style=\"text-align: right;\">\n",
              "      <th></th>\n",
              "      <th>Rho</th>\n",
              "      <th>X_bls</th>\n",
              "      <th>f(X_bls)</th>\n",
              "      <th>Iterations_bls</th>\n",
              "      <th>X_bls_scaling</th>\n",
              "      <th>f(X_bls_scaling)</th>\n",
              "      <th>Iterations_bls_scaling</th>\n",
              "    </tr>\n",
              "  </thead>\n",
              "  <tbody>\n",
              "    <tr>\n",
              "      <th>0</th>\n",
              "      <td>0.90</td>\n",
              "      <td>[-1.5604883407012962e-10, 7.734135248456346e-09]</td>\n",
              "      <td>3.589198e-17</td>\n",
              "      <td>1423</td>\n",
              "      <td>[-1.0703764753944118e-11, 3.722599993271974e-10]</td>\n",
              "      <td>9.376475e-20</td>\n",
              "      <td>63</td>\n",
              "    </tr>\n",
              "    <tr>\n",
              "      <th>1</th>\n",
              "      <td>0.80</td>\n",
              "      <td>[-1.481247552045219e-10, 7.3832367807387645e-09]</td>\n",
              "      <td>3.270752e-17</td>\n",
              "      <td>448</td>\n",
              "      <td>[-5.7623016800250184e-11, 2.783613680722769e-09]</td>\n",
              "      <td>4.652908e-18</td>\n",
              "      <td>59</td>\n",
              "    </tr>\n",
              "    <tr>\n",
              "      <th>2</th>\n",
              "      <td>0.75</td>\n",
              "      <td>[-1.623186592196918e-10, 8.158420745095756e-09]</td>\n",
              "      <td>3.993662e-17</td>\n",
              "      <td>13462</td>\n",
              "      <td>[-1.0174532278155418e-11, 3.9833437984166556e-10]</td>\n",
              "      <td>1.000767e-19</td>\n",
              "      <td>63</td>\n",
              "    </tr>\n",
              "    <tr>\n",
              "      <th>3</th>\n",
              "      <td>0.60</td>\n",
              "      <td>[-1.6326463712982266e-10, 8.120557552797777e-09]</td>\n",
              "      <td>3.956680e-17</td>\n",
              "      <td>3036</td>\n",
              "      <td>[-1.0883579003488633e-11, 3.6340085825207773e-10]</td>\n",
              "      <td>9.230840e-20</td>\n",
              "      <td>63</td>\n",
              "    </tr>\n",
              "    <tr>\n",
              "      <th>4</th>\n",
              "      <td>0.50</td>\n",
              "      <td>[-1.226531099775065e-10, 6.0437262240152715e-09]</td>\n",
              "      <td>2.191914e-17</td>\n",
              "      <td>500</td>\n",
              "      <td>[-9.06196302620983e-12, 3.1820633527148966e-10]</td>\n",
              "      <td>6.803148e-20</td>\n",
              "      <td>64</td>\n",
              "    </tr>\n",
              "    <tr>\n",
              "      <th>5</th>\n",
              "      <td>0.40</td>\n",
              "      <td>[-1.6224872908094246e-10, 8.0433170741879e-09]</td>\n",
              "      <td>3.881888e-17</td>\n",
              "      <td>13574</td>\n",
              "      <td>[-2.1647254170498173e-11, 9.666093894623808e-10]</td>\n",
              "      <td>5.659598e-19</td>\n",
              "      <td>62</td>\n",
              "    </tr>\n",
              "    <tr>\n",
              "      <th>6</th>\n",
              "      <td>0.25</td>\n",
              "      <td>[-1.5395449932790527e-10, 7.77892209660908e-09]</td>\n",
              "      <td>3.630961e-17</td>\n",
              "      <td>20456</td>\n",
              "      <td>[-4.9643629052467643e-11, 2.2885491866445917e-09]</td>\n",
              "      <td>3.157472e-18</td>\n",
              "      <td>62</td>\n",
              "    </tr>\n",
              "    <tr>\n",
              "      <th>7</th>\n",
              "      <td>0.10</td>\n",
              "      <td>[-1.1722819673664532e-10, 6.030325521324538e-09]</td>\n",
              "      <td>2.183031e-17</td>\n",
              "      <td>22294</td>\n",
              "      <td>[-1.1595845202694586e-10, 5.728038124488406e-09]</td>\n",
              "      <td>1.968821e-17</td>\n",
              "      <td>67</td>\n",
              "    </tr>\n",
              "    <tr>\n",
              "      <th>8</th>\n",
              "      <td>0.01</td>\n",
              "      <td>[-1.622825602303143e-10, 8.154854594558656e-09]</td>\n",
              "      <td>3.990166e-17</td>\n",
              "      <td>27388</td>\n",
              "      <td>[-1.1204911284477063e-10, 5.574456261356004e-09]</td>\n",
              "      <td>1.864505e-17</td>\n",
              "      <td>176</td>\n",
              "    </tr>\n",
              "  </tbody>\n",
              "</table>\n",
              "</div>"
            ],
            "text/plain": [
              "    Rho  ... Iterations_bls_scaling\n",
              "0  0.90  ...                     63\n",
              "1  0.80  ...                     59\n",
              "2  0.75  ...                     63\n",
              "3  0.60  ...                     63\n",
              "4  0.50  ...                     64\n",
              "5  0.40  ...                     62\n",
              "6  0.25  ...                     62\n",
              "7  0.10  ...                     67\n",
              "8  0.01  ...                    176\n",
              "\n",
              "[9 rows x 7 columns]"
            ]
          },
          "metadata": {
            "tags": []
          }
        },
        {
          "output_type": "stream",
          "text": [
            "\n",
            "\n",
            "\n"
          ],
          "name": "stdout"
        },
        {
          "output_type": "display_data",
          "data": {
            "image/png": "[encoded data removed]",
            "text/plain": [
              "<Figure size 432x288 with 1 Axes>"
            ]
          },
          "metadata": {
            "tags": [],
            "needs_background": "light"
          }
        }
      ]
    },
    {
      "cell_type": "markdown",
      "metadata": {
        "id": "3HilsOMCzqMM"
      },
      "source": [
        "***Remarks :*** *We observe that in BLS with scaling the number of iterations taken to perform the task is very low compared to BLS wihtout scaling. As we can see from the graph for BLS without scaling, the number of itertions decreases as we increase pho but there is a spike in iteration when $\\rho$ is around 0.75. In BLS with scaling the number has very less variance and lie 60-70, except for the case when $\\rho$ is very low.*"
      ]
    },
    {
      "cell_type": "code",
      "metadata": {
        "id": "5oDbcLhJyiiw"
      },
      "source": [
        ""
      ],
      "execution_count": null,
      "outputs": []
    }
  ]
}