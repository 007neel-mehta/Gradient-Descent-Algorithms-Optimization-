{
  "nbformat": 4,
  "nbformat_minor": 0,
  "metadata": {
    "colab": {
      "name": "20i190008_IE684_Lab3_Ex2.ipynb",
      "provenance": [],
      "collapsed_sections": []
    },
    "kernelspec": {
      "name": "python3",
      "display_name": "Python 3"
    }
  },
  "cells": [
    {
      "cell_type": "code",
      "metadata": {
        "id": "jtyCweHtFies"
      },
      "source": [
        "import numpy as np\r\n",
        "import pandas as pd\r\n",
        "import matplotlib.pyplot as plt"
      ],
      "execution_count": null,
      "outputs": []
    },
    {
      "cell_type": "markdown",
      "metadata": {
        "id": "nVE0Xoa0Q5wE"
      },
      "source": [
        "$\\Large\\textbf{Lab 3.}$ $\\large\\textbf{Exercise 2.}$\r\n",
        "\r\n"
      ]
    },
    {
      "cell_type": "markdown",
      "metadata": {
        "id": "b-Meohokl4xP"
      },
      "source": [
        "Consider the problem $\\min_{\\mathbf{x}} q(\\mathbf{x}) = 1000(x_2-x_1^2)^2 + (2-x_1)^2$. "
      ]
    },
    {
      "cell_type": "markdown",
      "metadata": {
        "id": "ZL8skZZIf8yd"
      },
      "source": [
        "\r\n",
        "Using the similar approach that we use in the earlier question, we will calculate the value of the diagonal matrix $D_k$ as follows.\r\n",
        "\r\n",
        "$Hessian = \\nabla^2f(x) = \\begin{bmatrix} \\frac{\\partial^2f}{\\partial x_1^2} & \\frac{\\partial^2f}{\\partial x_1 x_2} \\\\  \\frac{\\partial^2f}{\\partial x_1 x_2} & \\frac{\\partial^2f}{\\partial x_2^2}  \\end{bmatrix}  = \\begin{bmatrix}1000[12x_1^2-4x_2]+2 & -4000x_1 \\\\ -4000x_1 & 2000\\end{bmatrix}$\r\n",
        "\r\n",
        "Now the matrix $D^k$ will be the inverse of the diagonal elements of the hessian matrix. and can be found as follows.\r\n",
        " \r\n",
        " $ \\\\ $\r\n",
        "\r\n",
        "\r\n",
        "$D^k = \\begin{bmatrix}1000[(12x_1^2-4x_2)+2]^{-1} & 0 \\\\ 0 & 2000^{-1}\\end{bmatrix}$"
      ]
    },
    {
      "cell_type": "markdown",
      "metadata": {
        "id": "kXbMYQNze1Y5"
      },
      "source": [
        "# *General Code for evalf, evalg, compute D, condition number, finding step length and find_minimizer*\r\n",
        "\r\n",
        "\r\n",
        "\r\n",
        "$\\textbf{NOTE:} \\ $ In this notebook we will create an additinal function, ***compute_D_k_diag***, which we will use to compute the diagonal matrix $D^k$ that will be used only in the first part of the question. For the rest of the part where $D^k$ is the inverse of the hessian matrix, we will use the general function, ***compute_D_k***"
      ]
    },
    {
      "cell_type": "code",
      "metadata": {
        "id": "GZjX2IwOR8_X"
      },
      "source": [
        "\r\n",
        "def evalf(x):  \r\n",
        "  #Input: x is a numpy array of size 2 \r\n",
        "  assert type(x) is np.ndarray and len(x) == 2 #do not allow arbitrary arguments \r\n",
        "  #after checking if the argument is valid, we can compute the objective function value\r\n",
        "  return 1000*(x[1] - x[0]**2 )**2 + (2 - x[0])**2\r\n",
        "  \r\n",
        "\r\n",
        "\r\n",
        "def evalg(x):  \r\n",
        "  #Input: x is a numpy array of size 2 \r\n",
        "  assert type(x) is np.ndarray and len(x) == 2 #do not allow arbitrary arguments \r\n",
        "  #after checking if the argument is valid, we can compute the gradient value\r\n",
        "  #compute the gradient value and return it \r\n",
        "  return np.array([ 1000*(4*x[0]**3 - 4*x[0]*x[1])+ 2*x[0]-4 , 1000*(2*x[1] - 2*x[0]**2 )  ])\r\n",
        "  \r\n",
        "\r\n",
        "def evalh(x): \r\n",
        "  assert type(x) is np.ndarray \r\n",
        "  assert len(x) == 2\r\n",
        "  return np.array([\r\n",
        "                   [1000*(12*x[0]**2 - 4*x[1])+2 , -4000*x[0]  ],\r\n",
        "                   [-4000*x[0], 2000]\r\n",
        "                   ])\r\n",
        "\r\n",
        "#method to find the condition number of any square matrix\r\n",
        "def find_condition_number(A):\r\n",
        "  assert type(A) is np.ndarray\r\n",
        "  assert A.shape[0] == A.shape[1]\r\n",
        "\r\n",
        "  return np.linalg.eig(A)[0][0] / np.linalg.eig(A)[0][1]\r\n",
        "\r\n",
        "\r\n",
        "def compute_D_k_diag(x):\r\n",
        "  assert type(x) is np.ndarray\r\n",
        "  assert len(x) == 2\r\n",
        "  return np.array([\r\n",
        "                   [1/(evalh(x)[0][0]),0],\r\n",
        "                   [0, 1/(evalh(x)[1][1])]\r\n",
        "                   ])\r\n",
        "  \r\n",
        "\r\n",
        "\r\n",
        "def compute_D_k(x):\r\n",
        "  assert type(x) is np.ndarray\r\n",
        "  assert len(x) == 2\r\n",
        "\r\n",
        "  if np.linalg.det(evalh(x)) == 0:\r\n",
        "    print('The determinant of the hessian is zero. Hence we find Pseudo Inverse')\r\n",
        "    return np.linalg.pinv(evalh(x))\r\n",
        "  else:\r\n",
        "    return np.linalg.inv(evalh(x))\r\n",
        "\r\n",
        "\r\n",
        "\r\n",
        "\r\n",
        "\r\n",
        "#def compute_steplength_exact(gradf, A): #add appropriate arguments to the function \r\n",
        "  #assert type(gradf) is np.ndarray and len(gradf) == 2 \r\n",
        "  #assert type(A) is np.ndarray and A.shape[0] == 2 and  A.shape[1] == 2 #allow only a 2x2 array\r\n",
        "   \r\n",
        "  #step_length = (np.dot(gradf.T, gradf)) / (np.matmul(gradf.T,np.matmul(2*A,gradf)))\r\n",
        "  #return step_length\r\n",
        "  \r\n",
        "\r\n",
        "\r\n",
        "def compute_steplength_backtracking(x, gradf, alpha_start, rho, gamma): \r\n",
        "  assert type(x) is np.ndarray and len(gradf) == 2 \r\n",
        "  assert type(gradf) is np.ndarray and len(gradf) == 2 \r\n",
        "  assert type(alpha_start) is float and alpha_start>=0. \r\n",
        "  assert type(rho) is float and rho>=0.\r\n",
        "  assert type(gamma) is float and gamma>=0. \r\n",
        "\r\n",
        "  alpha = alpha_start\r\n",
        "  p = -gradf\r\n",
        "\r\n",
        "  while (evalf(x + alpha*p) > (evalf(x) + gamma * alpha * np.dot(gradf.T, p)) ):\r\n",
        "    alpha = alpha*rho\r\n",
        "  \r\n",
        "  return alpha\r\n",
        "  \r\n",
        "\r\n",
        "def compute_steplength_backtracking_scaled_direction(x, gradf, direction, alpha_start, rho, gamma): #add appropriate arguments to the function \r\n",
        "  assert type(x) is np.ndarray and len(gradf) == 2 \r\n",
        "  assert type(gradf) is np.ndarray and len(gradf) == 2 \r\n",
        "  assert type(direction) is np.ndarray and len(direction) == 2 \r\n",
        "  assert type(alpha_start) is float and alpha_start>=0. \r\n",
        "  assert type(rho) is float and rho>=0.\r\n",
        "  assert type(gamma) is float and gamma>=0. \r\n",
        "\r\n",
        "  alpha = alpha_start\r\n",
        "  p = -gradf\r\n",
        "\r\n",
        "  while (evalf(x + alpha*np.matmul(direction,p)) > (evalf(x) + gamma * alpha * np.matmul(gradf.T, np.matmul(direction, p))) ):\r\n",
        "    alpha = alpha*rho\r\n",
        "  \r\n",
        "  return alpha\r\n",
        "  \r\n",
        "\r\n",
        "#line search type \r\n",
        "EXACT_LINE_SEARCH = 1\r\n",
        "BACKTRACKING_LINE_SEARCH = 2\r\n",
        "CONSTANT_STEP_LENGTH = 3\r\n",
        "  \r\n",
        "  \r\n",
        "#complete the code for gradient descent to find the minimizer\r\n",
        "def find_minimizer_gd(start_x, tol, line_search_type, *args):\r\n",
        "  #Input: start_x is a numpy array of size 2, tol denotes the tolerance and is a positive float value\r\n",
        "  assert type(start_x) is np.ndarray and len(start_x) == 2 #do not allow arbitrary arguments \r\n",
        "  assert type(tol) is float and tol>=0 \r\n",
        "\r\n",
        "  #A = np.array([])\r\n",
        "  x = start_x\r\n",
        "  g_x = evalg(x)\r\n",
        "  k = 0\r\n",
        "  condition_num = []\r\n",
        "\r\n",
        "  if (line_search_type == BACKTRACKING_LINE_SEARCH):\r\n",
        "    alpha_start = args[0]\r\n",
        "    rho = args[1]\r\n",
        "    gamma = args[2] \r\n",
        "\r\n",
        "  while np.linalg.norm(g_x) > tol:\r\n",
        "\r\n",
        "    if line_search_type == EXACT_LINE_SEARCH:\r\n",
        "      step_length = compute_steplength_exact(g_x,A)\r\n",
        "\r\n",
        "    elif line_search_type == BACKTRACKING_LINE_SEARCH:\r\n",
        "      step_length = compute_steplength_backtracking(x,g_x, alpha_start,rho, gamma)\r\n",
        "\r\n",
        "    elif line_search_type == CONSTANT_STEP_LENGTH: \r\n",
        "      step_length = float(input('Enter a valid value for the constant step length.'))\r\n",
        "\r\n",
        "    else:  \r\n",
        "      raise ValueError('Line search type unknown. Please check!')\r\n",
        "\r\n",
        "    condition_num.append(find_condition_number(evalh(x)))\r\n",
        "    x = np.subtract(x, np.multiply(step_length,g_x)) \r\n",
        "    k += 1 \r\n",
        "    g_x = evalg(x)\r\n",
        "\r\n",
        "  return x, k, condition_num\r\n",
        "\r\n",
        "\r\n",
        "\r\n",
        " \r\n",
        "def find_minimizer_gdscaling_with_diagonal_d(start_x, tol, line_search_type, *args):\r\n",
        "  #Input: start_x is a numpy array of size 2, tol denotes the tolerance and is a positive float value\r\n",
        "  assert type(start_x) is np.ndarray and len(start_x) == 2 #do not allow arbitrary arguments \r\n",
        "  assert type(tol) is float and tol>=0 \r\n",
        " \r\n",
        "  x = start_x\r\n",
        "  g_x = evalg(x)\r\n",
        "  k = 0\r\n",
        "  \r\n",
        " \r\n",
        "  if (line_search_type == BACKTRACKING_LINE_SEARCH):\r\n",
        "    alpha_start = args[0]\r\n",
        "    rho = args[1]\r\n",
        "    gamma = args[2] \r\n",
        "    cond_num_list = []\r\n",
        " \r\n",
        "  while np.linalg.norm(g_x) > tol:\r\n",
        " \r\n",
        "    #if line_search_type == EXACT_LINE_SEARCH:\r\n",
        "      #step_length = #step_length using exact line search with sclaing\r\n",
        " \r\n",
        "    d = compute_D_k_diag(x)\r\n",
        "    cond_num_list.append(find_condition_number(d))\r\n",
        "\r\n",
        "    if line_search_type == BACKTRACKING_LINE_SEARCH:\r\n",
        "      step_length = compute_steplength_backtracking_scaled_direction(x,g_x, d , alpha_start,rho, gamma)\r\n",
        " \r\n",
        "    #elif line_search_type == CONSTANT_STEP_LENGTH: \r\n",
        "      #step_length = float(input('Enter a valid value for the constant step length.'))\r\n",
        " \r\n",
        "    else:  \r\n",
        "      raise ValueError('Line search type unknown. Please check!')\r\n",
        " \r\n",
        "    x = np.subtract(x, step_length * np.matmul(d,g_x)) \r\n",
        "    k += 1 \r\n",
        "    g_x = evalg(x)\r\n",
        " \r\n",
        "  return x, k, cond_num_list\r\n",
        " \r\n",
        " \r\n",
        "\r\n",
        "def find_minimizer_gdscaling(start_x, tol, line_search_type, *args):\r\n",
        "  #Input: start_x is a numpy array of size 2, tol denotes the tolerance and is a positive float value\r\n",
        "  assert type(start_x) is np.ndarray and len(start_x) == 2 #do not allow arbitrary arguments \r\n",
        "  assert type(tol) is float and tol>=0 \r\n",
        " \r\n",
        "  x = start_x\r\n",
        "  g_x = evalg(x)\r\n",
        "  k = 0\r\n",
        "  \r\n",
        " \r\n",
        "  if (line_search_type == BACKTRACKING_LINE_SEARCH):\r\n",
        "    alpha_start = args[0]\r\n",
        "    rho = args[1]\r\n",
        "    gamma = args[2] \r\n",
        "    cond_num_list = []\r\n",
        " \r\n",
        "  while np.linalg.norm(g_x) > tol:\r\n",
        " \r\n",
        "    #if line_search_type == EXACT_LINE_SEARCH:\r\n",
        "      #step_length = #step_length using exact line search with sclaing\r\n",
        " \r\n",
        "    d = compute_D_k(x)\r\n",
        "    cond_num_list.append(find_condition_number(d))\r\n",
        "\r\n",
        "    if line_search_type == BACKTRACKING_LINE_SEARCH:\r\n",
        "      step_length = compute_steplength_backtracking_scaled_direction(x,g_x, d , alpha_start,rho, gamma)\r\n",
        " \r\n",
        "    #elif line_search_type == CONSTANT_STEP_LENGTH: \r\n",
        "      #step_length = float(input('Enter a valid value for the constant step length.'))\r\n",
        " \r\n",
        "    else:  \r\n",
        "      raise ValueError('Line search type unknown. Please check!')\r\n",
        " \r\n",
        "    x = np.subtract(x, step_length * np.matmul(d,g_x)) \r\n",
        "    k += 1 \r\n",
        "    g_x = evalg(x)\r\n",
        " \r\n",
        "  return x, k, cond_num_list\r\n",
        "\r\n"
      ],
      "execution_count": null,
      "outputs": []
    },
    {
      "cell_type": "markdown",
      "metadata": {
        "id": "VKSv1_j7cgD9"
      },
      "source": [
        "# ***Part 1-4:*** Comparing BLS with scaling to BLS withour scaling using the algorith and and diagonal matrix D and the following value.\r\n",
        "\r\n",
        "$x  = (5.0, 5.0) \\ \\ \\ \\ \\ , \\tau = 10^{-9} \\ \\ \\ , \\alpha = 1.0 \\ \\ \\ \\rho = \\gamma = 0.5$"
      ]
    },
    {
      "cell_type": "code",
      "metadata": {
        "colab": {
          "base_uri": "https://localhost:8080/"
        },
        "id": "yaC0Y7tVcgbs",
        "outputId": "1a2dfdb5-d057-4481-8512-bd1b476fb3b3"
      },
      "source": [
        "my_start_x = np.array([5.0, 5.0])\r\n",
        "my_tol = 10e-9\r\n",
        "alpha = 1.0\r\n",
        "rho = 0.5\r\n",
        "gamma = 0.5\r\n",
        "\r\n",
        "\r\n",
        "x_bls, k_bls, cond_num_bls = find_minimizer_gd(my_start_x, my_tol, BACKTRACKING_LINE_SEARCH, alpha, rho, gamma)\r\n",
        "x_bls_scaling_inv_d, k_bls_scaling_inv_d, cond_num_inv_d = find_minimizer_gdscaling(my_start_x,my_tol,BACKTRACKING_LINE_SEARCH,alpha, rho, gamma)\r\n",
        "x_bls_scaling, k_bls_scaling, cond_num = find_minimizer_gdscaling_with_diagonal_d(my_start_x,my_tol,BACKTRACKING_LINE_SEARCH,alpha, rho, gamma)\r\n",
        "\r\n",
        "print('BLS Without Scaling')\r\n",
        "print('Optimal X :', x_bls)\r\n",
        "print('Optimal f(x) :', evalf(x_bls))\r\n",
        "print('Iterations :', k_bls)\r\n",
        "\r\n",
        "print('\\n\\n')\r\n",
        "\r\n",
        "print('BLS With Scaling where D is inverse of hessian')\r\n",
        "print('Optimal X :', x_bls_scaling_inv_d)\r\n",
        "print('Optimal f(x) :', evalf(x_bls_scaling_inv_d))\r\n",
        "print('Iterations :', k_bls_scaling_inv_d)\r\n",
        "\r\n",
        "print('\\n\\n')\r\n",
        "\r\n",
        "print('BLS With Scaling with Diagonal D')\r\n",
        "print('Optimal X :', x_bls_scaling)\r\n",
        "print('Optimal f(x) :', evalf(x_bls_scaling))\r\n",
        "print('Iterations :', k_bls_scaling)\r\n",
        "print(cond_num)\r\n",
        "\r\n"
      ],
      "execution_count": null,
      "outputs": [
        {
          "output_type": "stream",
          "text": [
            "BLS Without Scaling\n",
            "Optimal X : [2.00000002 4.00000008]\n",
            "Optimal f(x) : 4.2101662624943547e-16\n",
            "Iterations : 391800\n",
            "\n",
            "\n",
            "\n",
            "BLS With Scaling where D is inverse of hessian\n",
            "Optimal X : [2. 4.]\n",
            "Optimal f(x) : 0.0\n",
            "Iterations : 50\n",
            "\n",
            "\n",
            "\n",
            "BLS With Scaling with Diagonal D\n",
            "Optimal X : [2.00000001 4.00000004]\n",
            "Optimal f(x) : 9.479821147279898e-17\n",
            "Iterations : 698612\n"
          ],
          "name": "stdout"
        },
        {
          "output_type": "stream",
          "text": [
            "IOPub data rate exceeded.\n",
            "The notebook server will temporarily stop sending output\n",
            "to the client in order to avoid crashing it.\n",
            "To change this limit, set the config variable\n",
            "`--NotebookApp.iopub_data_rate_limit`.\n",
            "\n",
            "Current values:\n",
            "NotebookApp.iopub_data_rate_limit=1000000.0 (bytes/sec)\n",
            "NotebookApp.rate_limit_window=3.0 (secs)\n",
            "\n"
          ],
          "name": "stderr"
        }
      ]
    },
    {
      "cell_type": "code",
      "metadata": {
        "colab": {
          "base_uri": "https://localhost:8080/",
          "height": 265
        },
        "id": "EjTXJ4qCU2wp",
        "outputId": "30cf9665-01d3-4556-9ff5-e868a6c688bd"
      },
      "source": [
        "#plt.plot(cond_num_bls, label='BLS without scaling')\r\n",
        "plt.plot(cond_num_inv_d,linewidth=1, label='BLS with scaling where D is inv of hessian')\r\n",
        "plt.legend()\r\n",
        "plt.xlabel('Iterations')\r\n",
        "plt.ylaabel('Condition Number')\r\n",
        "plt.yscale('log')"
      ],
      "execution_count": null,
      "outputs": [
        {
          "output_type": "display_data",
          "data": {
            "image/png": "[encoded data removed]",
            "text/plain": [
              "<Figure size 432x288 with 1 Axes>"
            ]
          },
          "metadata": {
            "tags": [],
            "needs_background": "light"
          }
        }
      ]
    },
    {
      "cell_type": "code",
      "metadata": {
        "colab": {
          "base_uri": "https://localhost:8080/",
          "height": 297
        },
        "id": "4Scz1PirXJ6O",
        "outputId": "ccbfe2af-6b8b-49e3-bd5d-1f1a4eda633a"
      },
      "source": [
        "plt.plot(cond_num_bls, label='BLS without scaling')\r\n",
        "plt.legend()\r\n",
        "plt.xlabel('Iterations')\r\n",
        "plt.ylabel('Condition Number')\r\n",
        "#plt.yscale('log')"
      ],
      "execution_count": null,
      "outputs": [
        {
          "output_type": "execute_result",
          "data": {
            "text/plain": [
              "Text(0, 0.5, 'Condition Number')"
            ]
          },
          "metadata": {
            "tags": []
          },
          "execution_count": 34
        },
        {
          "output_type": "display_data",
          "data": {
            "image/png": "[encoded data removed]",
            "text/plain": [
              "<Figure size 432x288 with 1 Axes>"
            ]
          },
          "metadata": {
            "tags": [],
            "needs_background": "light"
          }
        }
      ]
    },
    {
      "cell_type": "markdown",
      "metadata": {
        "id": "N8Ie5JOGfvrG"
      },
      "source": [
        "***Remarks :*** *We can find the optimal value of the x and the function only when we use BLS without scaling or when we use D which is the hessian inverve. When we use the diagonal matrix D which only has the inverse of diagonal of hessian, the number of iterations taken are very large, 698612. So this value of D does not work.*"
      ]
    },
    {
      "cell_type": "markdown",
      "metadata": {
        "id": "cfyUnSowgZGs"
      },
      "source": [
        "\r\n",
        "\r\n",
        "We choose Q to be the hessian matrix and calculate the D matrix as folllows.\r\n",
        "\r\n",
        "$D^k = (\\nabla^2f(x^k))^{-1}$\r\n",
        "\r\n",
        "Also, in the code, if the $\\det(Q)$ is zero then we calculate $D^k$ by calculating the pseudo inverse of Q.\r\n",
        "\r\n"
      ]
    }
  ]
}