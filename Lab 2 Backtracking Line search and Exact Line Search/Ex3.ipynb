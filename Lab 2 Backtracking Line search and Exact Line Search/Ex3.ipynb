{
  "nbformat": 4,
  "nbformat_minor": 0,
  "metadata": {
    "colab": {
      "name": "20i190008_IE684_Lab2_Ex3.ipynb",
      "provenance": [],
      "collapsed_sections": []
    },
    "kernelspec": {
      "display_name": "Python 3",
      "name": "python3"
    }
  },
  "cells": [
    {
      "cell_type": "code",
      "metadata": {
        "id": "UqsH_RLwFOhn"
      },
      "source": [
        "import numpy as np\r\n",
        "import pandas as pd\r\n",
        "import matplotlib.pyplot as plt\r\n"
      ],
      "execution_count": 2,
      "outputs": []
    },
    {
      "cell_type": "markdown",
      "metadata": {
        "id": "3DK6r1PAFtru"
      },
      "source": [
        "$q(x) = 1000(x_{2} - x_1^2)^2 + (2-x_1^2)^2$"
      ]
    },
    {
      "cell_type": "markdown",
      "metadata": {
        "id": "S_Sif_pLFi6l"
      },
      "source": [
        "# ***Part 2 :*** *We cannot find the closed form solution for this problem*\r\n",
        "\r\n",
        "\r\n",
        "***Remarks :*** *In order to apply ELS we will need an close form expression for the value of $\\eta$ that minimizes $q(x + \\eta p)$ where $p$ is the descent direction. But we observe that the function $q(x)$ is not quadratic here and when we find the function to optimize $\\eta$ i.e $ \\ \\ g(\\eta) = f(x + \\eta \\nabla f(x))$, it is not quadratic. We cannot even ensure the convexity of this function let alone finding the optimized value.*\r\n",
        "\r\n",
        "\r\n",
        " \\begin{array}{l}\r\n",
        "q( x) \\ =\\ 1000\\left( x_{2} -x^{2}_{1}\\right)^{2} +( 2-x_{1})^{2}\\\\\r\n",
        "\\frac{\\partial q}{\\partial x_{1}} \\ =\\ 1000\\left( 4x^{3}_{1} -4x_{1} x_{2}\\right) +2x_{1} -4\\\\\r\n",
        "\\frac{\\partial q}{\\partial x_{2}} =2000\\left( x_{2} -x^{2}_{1}\\right)\\\\\r\n",
        "q( X-\\eta \\nabla q( X)) \\ =\\ q( z_{1} ,z_{2}) \\ say\\\\\r\n",
        "\\\\\r\n",
        "where\\ ,\\ z_{1} \\ =\\ x_{1} -\\eta \\frac{\\partial q}{\\partial x_{1}} =\\ x_{1} -\\eta \\left[ 1000\\left( 4x^{3}_{1} -4x_{1} x_{2}\\right) +2x_{1} -4\\right]\\\\\r\n",
        "and\\ ,\\ \\ \\ z_{2} \\ =\\ x_{2} -\\eta \\frac{\\partial q}{\\partial x_{2}} =\\ x_{2} -\\eta \\left[ 2000\\left( x_{2} -x^{2}_{1}\\right)\\right]\\\\\r\n",
        "Now\\ in\\ exact\\ line\\ search\\ we\\ want\\ to\\ find\\ \\eta \\ such\\ that\\ it\\ minimizes\\ this\\ function\\\\\r\n",
        "q( Z) ,\\ i.e\\\\\r\n",
        "\\\\\r\n",
        "h( \\eta ) \\ =\\ q( z_{1} ,z_{2}) \\ =\\ 1000\\left( z_{2} -z^{2}_{1}\\right)^{2} +( 2-z_{1})^{2}\\\\\r\n",
        "We\\ see\\ that\\ this\\ function\\ cannot\\ be\\ even\\ shown\\ convex\\ and\\ we\\ are\\ unable\\ to\\ find\\ any\\ close\\ form\\ solution\r\n",
        "\\end{array}\r\n"
      ]
    },
    {
      "cell_type": "markdown",
      "metadata": {
        "id": "hm7lph3jJwOu"
      },
      "source": [
        "# ***Part 3 :*** *Code for solving $min \\ q(x) $using backtracking*"
      ]
    },
    {
      "cell_type": "code",
      "metadata": {
        "id": "mvRoO_iYKFbr"
      },
      "source": [
        "def evalf(x):\r\n",
        "  assert type(x) is np.ndarray and len(x) == 2\r\n",
        "  return 1000*((x[1] - x[0]**2)**2) + (2-x[0])**2\r\n",
        "\r\n",
        "def evalg(x):\r\n",
        "  assert type(x) is np.ndarray and len(x) == 2\r\n",
        "  a_ = 1000*(4*(x[0]**3) - 4*x[0]*x[1]) + 2*x[0] - 4\r\n",
        "  b_ = 2000*(x[1] - x[0]**2)\r\n",
        "  return np.array([a_, b_])\r\n",
        "\r\n",
        "\r\n",
        "def compute_steplength_backtracking(x, gradf, alpha_start, rho, gamma):\r\n",
        "  assert type(x) is np.ndarray and len(gradf) == 2\r\n",
        "  assert type(gradf) is np.ndarray and len(gradf) == 2\r\n",
        "  \r\n",
        "  alpha = alpha_start\r\n",
        "  p = -gradf\r\n",
        "\r\n",
        "  while (evalf(x + alpha*p) > (evalf(x) + gamma * alpha * np.dot(gradf.T, p)) ):\r\n",
        "    alpha = alpha*rho\r\n",
        "  \r\n",
        "  return alpha\r\n",
        "\r\n",
        "\r\n",
        "def find_minimizer(start_x, tol, alpha, rho, gamma):\r\n",
        "  assert type(start_x) is np.ndarray and len(start_x) == 2\r\n",
        "  assert type(tol) is float and tol>=0 \r\n",
        "\r\n",
        "  x = start_x\r\n",
        "  g = evalg(x)\r\n",
        "  k = 0\r\n",
        "  \r\n",
        "  while (np.linalg.norm(g) > tol):\r\n",
        "    step_length = compute_steplength_backtracking(x,g, alpha, rho, gamma) \r\n",
        "    x = np.subtract(x, np.multiply(step_length,g))\r\n",
        "    k+= 1\r\n",
        "    g = evalg(x)\r\n",
        "\r\n",
        "  return x,k\r\n",
        "\r\n",
        "\r\n"
      ],
      "execution_count": 3,
      "outputs": []
    },
    {
      "cell_type": "markdown",
      "metadata": {
        "id": "LdsvoyNzcSRe"
      },
      "source": [
        "# ***Part 4 :*** *Solving for some initial value*\r\n",
        "\r\n",
        "$x^0 = (5,5)$\r\n",
        "\r\n",
        "$\\tau= 10^{-9}$\r\n",
        "\r\n",
        "$\\alpha^0 = 1$\r\n",
        "\r\n",
        "$\\rho = \\gamma = 0.5$"
      ]
    },
    {
      "cell_type": "code",
      "metadata": {
        "colab": {
          "background_save": true
        },
        "id": "HJGq_iEicTlI",
        "outputId": "f935c03d-b8a9-48d3-c36e-069db412ae28"
      },
      "source": [
        "my_start_x = np.array([5.0,5.0])\r\n",
        "my_tol= 10e-9\r\n",
        "\r\n",
        "alpha_arr = 1.0\r\n",
        "rho_ = 0.5\r\n",
        "gamma_ = 0.5\r\n",
        "\r\n",
        "x_bls, k_bls = find_minimizer(my_start_x, my_tol, alpha_arr, rho_, gamma_)\r\n",
        "\r\n",
        "print('Minimizer :' , x_bls )\r\n",
        "print('The minimum value of function : ', evalf(x_bls))\r\n",
        "print('The number of iteration taken :' , k_bls)\r\n",
        "\r\n"
      ],
      "execution_count": null,
      "outputs": [
        {
          "output_type": "stream",
          "text": [
            "Minimizer : [2.00000002 4.00000008]\n",
            "The minimum value of function :  4.2101662624943547e-16\n",
            "The number of iteration taken : 391800\n"
          ],
          "name": "stdout"
        }
      ]
    },
    {
      "cell_type": "markdown",
      "metadata": {
        "id": "1l45ArTBWCnB"
      },
      "source": [
        "\r\n",
        "# ***Part 5:*** *Behavior of the backtracking linesearch algorithm for different choices of $\\alpha^0$*\r\n",
        "\r\n",
        "$\\alpha^0 \\in {\\{ 1,0.9,0.75,0.6,0.5,0.4,0.25,0.1,0.01 \\}}$\r\n",
        "\r\n",
        "$x^0 = (5,5)$\r\n",
        "\r\n",
        "$\\tau = 10^{-9} $\r\n",
        "\r\n",
        "$\\rho \\ =\\ 0.5\\\\$\r\n",
        "\r\n",
        "$\\gamma \\ =\\ 0.5\\ $\r\n",
        "\r\n"
      ]
    },
    {
      "cell_type": "code",
      "metadata": {
        "colab": {
          "base_uri": "https://localhost:8080/",
          "height": 660
        },
        "id": "GQvdAVbTOHtN",
        "outputId": "e6ceafb0-621b-43a7-d559-cf4235e58d84"
      },
      "source": [
        "my_start_x = np.array([5,5])\r\n",
        "my_tol= 10e-9\r\n",
        "\r\n",
        "alpha_arr = np.array([1,0.9,0.75, 0.6,0.5,0.4,0.25,0.1,0.01])\r\n",
        "rho_ = 0.5\r\n",
        "gamma_ = 0.5\r\n",
        "\r\n",
        "x_arr_bls = []\r\n",
        "iter_bls = []\r\n",
        "\r\n",
        "for i in alpha_arr:\r\n",
        "\r\n",
        "  x, k = find_minimizer(my_start_x,my_tol,i, rho_, gamma_)\r\n",
        "  x_arr_bls.append(x)\r\n",
        "  iter_bls.append(k)\r\n",
        "\r\n",
        "\r\n",
        "df = pd.DataFrame(columns=['alpha', 'x_bls', 'f(x_bls)','iterations_bls'])\r\n",
        "\r\n",
        "df['alpha'] = alpha_arr\r\n",
        "df['x_bls'] = x_arr_bls\r\n",
        "df['f(x_bls)'] = df['x_bls'].apply(evalf)\r\n",
        "df['iterations_bls'] = iter_bls\r\n",
        "\r\n",
        "\r\n",
        "display(df)\r\n",
        "\r\n",
        "print('\\n\\n')\r\n",
        "plt.plot(alpha_arr, iter_bls, label='Backtraking Line search')\r\n",
        "plt.xlabel('Initial Alpha')\r\n",
        "plt.ylabel('Iterations')\r\n",
        "plt.legend()\r\n",
        "plt.show()\r\n",
        "\r\n",
        "\r\n",
        "\r\n"
      ],
      "execution_count": null,
      "outputs": [
        {
          "output_type": "display_data",
          "data": {
            "text/html": [
              "<div>\n",
              "<style scoped>\n",
              "    .dataframe tbody tr th:only-of-type {\n",
              "        vertical-align: middle;\n",
              "    }\n",
              "\n",
              "    .dataframe tbody tr th {\n",
              "        vertical-align: top;\n",
              "    }\n",
              "\n",
              "    .dataframe thead th {\n",
              "        text-align: right;\n",
              "    }\n",
              "</style>\n",
              "<table border=\"1\" class=\"dataframe\">\n",
              "  <thead>\n",
              "    <tr style=\"text-align: right;\">\n",
              "      <th></th>\n",
              "      <th>alpha</th>\n",
              "      <th>x_bls</th>\n",
              "      <th>f(x_bls)</th>\n",
              "      <th>iterations_bls</th>\n",
              "    </tr>\n",
              "  </thead>\n",
              "  <tbody>\n",
              "    <tr>\n",
              "      <th>0</th>\n",
              "      <td>1.00</td>\n",
              "      <td>[2.000000020518148, 4.000000082077307]</td>\n",
              "      <td>4.210166e-16</td>\n",
              "      <td>391800</td>\n",
              "    </tr>\n",
              "    <tr>\n",
              "      <th>1</th>\n",
              "      <td>0.90</td>\n",
              "      <td>[2.0000000205387556, 4.000000082159756]</td>\n",
              "      <td>4.218629e-16</td>\n",
              "      <td>298852</td>\n",
              "    </tr>\n",
              "    <tr>\n",
              "      <th>2</th>\n",
              "      <td>0.75</td>\n",
              "      <td>[2.000000019737383, 4.000000078954525]</td>\n",
              "      <td>3.895892e-16</td>\n",
              "      <td>1616624</td>\n",
              "    </tr>\n",
              "    <tr>\n",
              "      <th>3</th>\n",
              "      <td>0.60</td>\n",
              "      <td>[2.0000000201074184, 4.000000080434138]</td>\n",
              "      <td>4.043282e-16</td>\n",
              "      <td>1376197</td>\n",
              "    </tr>\n",
              "    <tr>\n",
              "      <th>4</th>\n",
              "      <td>0.50</td>\n",
              "      <td>[2.000000020518148, 4.000000082077307]</td>\n",
              "      <td>4.210166e-16</td>\n",
              "      <td>391800</td>\n",
              "    </tr>\n",
              "    <tr>\n",
              "      <th>5</th>\n",
              "      <td>0.40</td>\n",
              "      <td>[2.000000020168138, 4.000000080677546]</td>\n",
              "      <td>4.067787e-16</td>\n",
              "      <td>1700487</td>\n",
              "    </tr>\n",
              "    <tr>\n",
              "      <th>6</th>\n",
              "      <td>0.25</td>\n",
              "      <td>[2.000000020518148, 4.000000082077307]</td>\n",
              "      <td>4.210166e-16</td>\n",
              "      <td>391800</td>\n",
              "    </tr>\n",
              "    <tr>\n",
              "      <th>7</th>\n",
              "      <td>0.10</td>\n",
              "      <td>[2.000000020168138, 4.000000080677546]</td>\n",
              "      <td>4.067787e-16</td>\n",
              "      <td>1700487</td>\n",
              "    </tr>\n",
              "    <tr>\n",
              "      <th>8</th>\n",
              "      <td>0.01</td>\n",
              "      <td>[2.000000019893405, 4.0000000795786095]</td>\n",
              "      <td>3.957725e-16</td>\n",
              "      <td>1501706</td>\n",
              "    </tr>\n",
              "  </tbody>\n",
              "</table>\n",
              "</div>"
            ],
            "text/plain": [
              "   alpha                                    x_bls      f(x_bls)  iterations_bls\n",
              "0   1.00   [2.000000020518148, 4.000000082077307]  4.210166e-16          391800\n",
              "1   0.90  [2.0000000205387556, 4.000000082159756]  4.218629e-16          298852\n",
              "2   0.75   [2.000000019737383, 4.000000078954525]  3.895892e-16         1616624\n",
              "3   0.60  [2.0000000201074184, 4.000000080434138]  4.043282e-16         1376197\n",
              "4   0.50   [2.000000020518148, 4.000000082077307]  4.210166e-16          391800\n",
              "5   0.40   [2.000000020168138, 4.000000080677546]  4.067787e-16         1700487\n",
              "6   0.25   [2.000000020518148, 4.000000082077307]  4.210166e-16          391800\n",
              "7   0.10   [2.000000020168138, 4.000000080677546]  4.067787e-16         1700487\n",
              "8   0.01  [2.000000019893405, 4.0000000795786095]  3.957725e-16         1501706"
            ]
          },
          "metadata": {
            "tags": []
          }
        },
        {
          "output_type": "stream",
          "text": [
            "\n",
            "\n",
            "\n"
          ],
          "name": "stdout"
        },
        {
          "output_type": "display_data",
          "data": {
            "image/png": "[encoded data removed]",
            "text/plain": [
              "<Figure size 432x288 with 1 Axes>"
            ]
          },
          "metadata": {
            "tags": []
          }
        }
      ]
    },
    {
      "cell_type": "markdown",
      "metadata": {
        "id": "Aryzcq30MCEB"
      },
      "source": [
        "***Remarks :*** *We observe that the number of iteration does not follow a certain pattern in this graph. First there is a steep decline in the number of itertions as we increase the size of the alpha but then again it starts increasing as we move the alpha value further. Altough the algorith do reach an optimum solution which exist at (2,4).*"
      ]
    },
    {
      "cell_type": "markdown",
      "metadata": {
        "id": "3CsZVEY8d8RS"
      },
      "source": [
        "# ***Part 6:*** *Behavior of the backtracking linesearch algorithm for different choices of $\\rho$*\r\n",
        "\r\n",
        "$\\alpha^0 = 1$\r\n",
        "\r\n",
        "$x^0 = (5,5)$\r\n",
        "\r\n",
        "$\\tau = 10^{-9} $\r\n",
        "\r\n",
        "$\\rho \\in \\{0.9, 0.8, 0.75, 0.6, 0.5, 0.4, 0.25, 0.1, 0.01\\} $\r\n",
        "\r\n",
        "$\\gamma =0.5$\r\n",
        "\r\n"
      ]
    },
    {
      "cell_type": "code",
      "metadata": {
        "colab": {
          "base_uri": "https://localhost:8080/",
          "height": 660
        },
        "id": "tx4a-zfcXmYd",
        "outputId": "8e8a56d0-551f-4572-ebca-d8634d56e70a"
      },
      "source": [
        "my_start_x = np.array([5.0,5.0])\r\n",
        "my_tol= 10e-9\r\n",
        "\r\n",
        "alpha_initial = 1.0\r\n",
        "rho_arr = np.array([0.9, 0.8, 0.75, 0.6,0.5,0.4,0.25,0.1,0.01])\r\n",
        "gamma_ = 0.5\r\n",
        "\r\n",
        "x_arr_bls = []\r\n",
        "iter_bls = []\r\n",
        "\r\n",
        "for i in rho_arr:\r\n",
        "\r\n",
        "  x, k = find_minimizer(my_start_x,my_tol,alpha_initial,i, gamma_ )\r\n",
        "  x_arr_bls.append(x)\r\n",
        "  iter_bls.append(k)\r\n",
        "\r\n",
        "df = pd.DataFrame(columns=['rho', 'x_bls', 'f(x_bls)','iterations_bls', 'x_els', 'f(x_els)', 'iterations_els'])\r\n",
        "\r\n",
        "df['rho'] = rho_arr\r\n",
        "df['x_bls'] = x_arr_bls\r\n",
        "df['f(x_bls)'] = df['x_bls'].apply(evalf)\r\n",
        "df['iterations_bls'] = iter_bls\r\n",
        "\r\n",
        "display(df)\r\n",
        "\r\n",
        "print('\\n\\n')\r\n",
        "plt.plot(rho_arr, iter_bls, label='Backtraking Line search')\r\n",
        "plt.xlabel('Rho')\r\n",
        "plt.ylabel('Iterations')\r\n",
        "plt.legend()\r\n",
        "plt.show()\r\n",
        "\r\n"
      ],
      "execution_count": 4,
      "outputs": [
        {
          "output_type": "display_data",
          "data": {
            "text/html": [
              "<div>\n",
              "<style scoped>\n",
              "    .dataframe tbody tr th:only-of-type {\n",
              "        vertical-align: middle;\n",
              "    }\n",
              "\n",
              "    .dataframe tbody tr th {\n",
              "        vertical-align: top;\n",
              "    }\n",
              "\n",
              "    .dataframe thead th {\n",
              "        text-align: right;\n",
              "    }\n",
              "</style>\n",
              "<table border=\"1\" class=\"dataframe\">\n",
              "  <thead>\n",
              "    <tr style=\"text-align: right;\">\n",
              "      <th></th>\n",
              "      <th>rho</th>\n",
              "      <th>x_bls</th>\n",
              "      <th>f(x_bls)</th>\n",
              "      <th>iterations_bls</th>\n",
              "      <th>x_els</th>\n",
              "      <th>f(x_els)</th>\n",
              "      <th>iterations_els</th>\n",
              "    </tr>\n",
              "  </thead>\n",
              "  <tbody>\n",
              "    <tr>\n",
              "      <th>0</th>\n",
              "      <td>0.90</td>\n",
              "      <td>[2.000000020583484, 4.000000082338755]</td>\n",
              "      <td>4.237030e-16</td>\n",
              "      <td>90362</td>\n",
              "      <td>NaN</td>\n",
              "      <td>NaN</td>\n",
              "      <td>NaN</td>\n",
              "    </tr>\n",
              "    <tr>\n",
              "      <th>1</th>\n",
              "      <td>0.80</td>\n",
              "      <td>[2.0000000204452597, 4.000000081785697]</td>\n",
              "      <td>4.180303e-16</td>\n",
              "      <td>393788</td>\n",
              "      <td>NaN</td>\n",
              "      <td>NaN</td>\n",
              "      <td>NaN</td>\n",
              "    </tr>\n",
              "    <tr>\n",
              "      <th>2</th>\n",
              "      <td>0.75</td>\n",
              "      <td>[2.0000000204566835, 4.0000000818314]</td>\n",
              "      <td>4.184977e-16</td>\n",
              "      <td>969646</td>\n",
              "      <td>NaN</td>\n",
              "      <td>NaN</td>\n",
              "      <td>NaN</td>\n",
              "    </tr>\n",
              "    <tr>\n",
              "      <th>3</th>\n",
              "      <td>0.60</td>\n",
              "      <td>[2.0000000200642654, 4.000000080262061]</td>\n",
              "      <td>4.025997e-16</td>\n",
              "      <td>1085752</td>\n",
              "      <td>NaN</td>\n",
              "      <td>NaN</td>\n",
              "      <td>NaN</td>\n",
              "    </tr>\n",
              "    <tr>\n",
              "      <th>4</th>\n",
              "      <td>0.50</td>\n",
              "      <td>[2.000000020518148, 4.000000082077307]</td>\n",
              "      <td>4.210166e-16</td>\n",
              "      <td>391800</td>\n",
              "      <td>NaN</td>\n",
              "      <td>NaN</td>\n",
              "      <td>NaN</td>\n",
              "    </tr>\n",
              "    <tr>\n",
              "      <th>5</th>\n",
              "      <td>0.40</td>\n",
              "      <td>[2.000000019891161, 4.000000079569643]</td>\n",
              "      <td>3.956833e-16</td>\n",
              "      <td>1888461</td>\n",
              "      <td>NaN</td>\n",
              "      <td>NaN</td>\n",
              "      <td>NaN</td>\n",
              "    </tr>\n",
              "    <tr>\n",
              "      <th>6</th>\n",
              "      <td>0.25</td>\n",
              "      <td>[2.0000000186762388, 4.000000074708837]</td>\n",
              "      <td>3.488170e-16</td>\n",
              "      <td>2557250</td>\n",
              "      <td>NaN</td>\n",
              "      <td>NaN</td>\n",
              "      <td>NaN</td>\n",
              "    </tr>\n",
              "    <tr>\n",
              "      <th>7</th>\n",
              "      <td>0.10</td>\n",
              "      <td>[2.000000018951605, 4.000000075811355]</td>\n",
              "      <td>3.591877e-16</td>\n",
              "      <td>3699964</td>\n",
              "      <td>NaN</td>\n",
              "      <td>NaN</td>\n",
              "      <td>NaN</td>\n",
              "    </tr>\n",
              "    <tr>\n",
              "      <th>8</th>\n",
              "      <td>0.01</td>\n",
              "      <td>[2.000000017496004, 4.000000069987492]</td>\n",
              "      <td>3.061222e-16</td>\n",
              "      <td>30581673</td>\n",
              "      <td>NaN</td>\n",
              "      <td>NaN</td>\n",
              "      <td>NaN</td>\n",
              "    </tr>\n",
              "  </tbody>\n",
              "</table>\n",
              "</div>"
            ],
            "text/plain": [
              "    rho                                    x_bls  ...  f(x_els)  iterations_els\n",
              "0  0.90   [2.000000020583484, 4.000000082338755]  ...       NaN             NaN\n",
              "1  0.80  [2.0000000204452597, 4.000000081785697]  ...       NaN             NaN\n",
              "2  0.75    [2.0000000204566835, 4.0000000818314]  ...       NaN             NaN\n",
              "3  0.60  [2.0000000200642654, 4.000000080262061]  ...       NaN             NaN\n",
              "4  0.50   [2.000000020518148, 4.000000082077307]  ...       NaN             NaN\n",
              "5  0.40   [2.000000019891161, 4.000000079569643]  ...       NaN             NaN\n",
              "6  0.25  [2.0000000186762388, 4.000000074708837]  ...       NaN             NaN\n",
              "7  0.10   [2.000000018951605, 4.000000075811355]  ...       NaN             NaN\n",
              "8  0.01   [2.000000017496004, 4.000000069987492]  ...       NaN             NaN\n",
              "\n",
              "[9 rows x 7 columns]"
            ]
          },
          "metadata": {
            "tags": []
          }
        },
        {
          "output_type": "stream",
          "text": [
            "\n",
            "\n",
            "\n"
          ],
          "name": "stdout"
        },
        {
          "output_type": "display_data",
          "data": {
            "image/png": "[encoded data removed]",
            "text/plain": [
              "<Figure size 432x288 with 1 Axes>"
            ]
          },
          "metadata": {
            "tags": [],
            "needs_background": "light"
          }
        }
      ]
    },
    {
      "cell_type": "markdown",
      "metadata": {
        "id": "u5t2BEsKMl7P"
      },
      "source": [
        "***Remarks :*** *We observe that the number of iteration decreases as we keep on increasing the value of the rho. Also the number of iteraitions performed is very large for the initial value of rho.*"
      ]
    },
    {
      "cell_type": "code",
      "metadata": {
        "id": "8lIkvTnOOj9J"
      },
      "source": [
        ""
      ],
      "execution_count": null,
      "outputs": []
    }
  ]
}