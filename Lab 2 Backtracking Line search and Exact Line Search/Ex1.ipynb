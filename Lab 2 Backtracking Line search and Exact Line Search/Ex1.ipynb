{
  "nbformat": 4,
  "nbformat_minor": 0,
  "metadata": {
    "colab": {
      "name": "20i190008_IE684_Lab2_Ex1.ipynb",
      "provenance": [],
      "collapsed_sections": [
        "nk7caK8lfd0_",
        "jxLizcLJ5Xz_",
        "R4Ia6XSt6gR4",
        "XRulPb3pKBA7",
        "afOx1Aq999jJ"
      ]
    },
    "kernelspec": {
      "name": "python3",
      "display_name": "Python 3"
    }
  },
  "cells": [
    {
      "cell_type": "markdown",
      "metadata": {
        "id": "nVE0Xoa0Q5wE"
      },
      "source": [
        "$\\Large\\textbf{Lab 2. Exercise 1. }$\r\n",
        "\r\n"
      ]
    },
    {
      "cell_type": "markdown",
      "metadata": {
        "id": "g7ivDCuJRP9b"
      },
      "source": [
        "We saw that for quadratic functions, a closed form analytical solution for the minimizer of the optimization problem $\\min_{\\eta \\geq 0} f({\\mathbf{x}}^k + \\eta {\\mathbf{p}}^k)$ exists. However finding a closed form expression as a solution to this optimization problem to find a suitable step length might not always be possible. To tackle general situations, we will try to devise a different procedure in this lab. \r\n",
        "\r\n",
        "To find the step length, we will use the following property: \r\n",
        "Suppose a non-zero $\\mathbf{p} \\in {\\mathbb{R}}^n$ is a descent direction at point $\\mathbf{x}$, and let $\\gamma \\in (0,1)$. Then there exists $\\varepsilon >0$ such that  \r\n",
        "\\begin{align}\r\n",
        "f(\\mathbf{x}+\\alpha \\mathbf{p}) \\leq f(\\mathbf{x}) + \\gamma \\alpha \\nabla f(\\mathbf{x})^\\top \\mathbf{p}, \\ \\forall \\alpha \\in (0,\\varepsilon].  \r\n",
        "\\end{align}\r\n",
        "\r\n",
        "The step length $\\eta^k$ can be found using a backtracking procedure illustrated below to find appropriate value of $\\varepsilon$.  \r\n",
        "\r\n"
      ]
    },
    {
      "cell_type": "markdown",
      "metadata": {
        "id": "WV6OddaNAmpA"
      },
      "source": [
        "\r\n",
        "\\begin{align}\r\n",
        "& \\textbf{Input:}  \\text{ $\\mathbf{x}^k$, $\\mathbf{p}^k$, $\\alpha^0$, $\\rho \\in (0,1)$, $\\gamma \\in (0,1)$ }  \\\\\r\n",
        "& \\textbf{Initialize } \\alpha=\\alpha^0 \\\\ \r\n",
        "&\\textbf{While } f(\\mathbf{x}^k + \\alpha \\mathbf{p}^k)   > f(\\mathbf{x}^k) + \\gamma \\alpha \\nabla f(\\mathbf{x}^k)^\\top \\mathbf{p}^k \\text{ do:}  \\\\   \r\n",
        "&\\quad \\quad \\alpha = \\rho \\alpha  \\\\\r\n",
        "&\\textbf{End While} \\\\\r\n",
        "&\\textbf{Output: } \\alpha\r\n",
        "\\end{align}"
      ]
    },
    {
      "cell_type": "markdown",
      "metadata": {
        "id": "iW-xcDISWmGR"
      },
      "source": [
        "In this exercise, we will check if finding the steplength using the backtracking procedure is advantageous for some quadratic functions. In this sample code we consider $f(\\mathbf{x})=f(x_1,x_2) = (x_1-2)^2 + (x_2 + 3)^2$."
      ]
    },
    {
      "cell_type": "markdown",
      "metadata": {
        "id": "nk7caK8lfd0_"
      },
      "source": [
        "# ***Part 1 and 2:*** *General code and definitions* "
      ]
    },
    {
      "cell_type": "code",
      "metadata": {
        "id": "KJq7tIgIRroP"
      },
      "source": [
        "#numpy package will be used for most of our lab exercises. Please have a look at https://numpy.org/doc/1.19/ for numpy documentation\r\n",
        "#we will first import the numpy package and name it as np\r\n",
        "import numpy as np \r\n",
        "import pandas as pd\r\n",
        "import matplotlib.pyplot as plt\r\n",
        "import seaborn as sns\r\n",
        "#Henceforth, we can lazily use np to denote the much longer numpy !! "
      ],
      "execution_count": 28,
      "outputs": []
    },
    {
      "cell_type": "code",
      "metadata": {
        "id": "GZjX2IwOR8_X"
      },
      "source": [
        "#Now we will define a function which will compute and return the function value \r\n",
        "def evalf(x):  \r\n",
        "  #Input: x is a numpy array of size 2 \r\n",
        "  assert type(x) is np.ndarray and len(x) == 2 #do not allow arbitrary arguments \r\n",
        "  #after checking if the argument is valid, we can compute the objective function value\r\n",
        "  #compute the function value and return it \r\n",
        "  return (x[1]+3)**2 + (-2+x[0])**2\r\n"
      ],
      "execution_count": 2,
      "outputs": []
    },
    {
      "cell_type": "code",
      "metadata": {
        "id": "6klpwtDra_I8"
      },
      "source": [
        "#Now we will define a function which will compute and return the gradient value as a numpy array \r\n",
        "def evalg(x):  \r\n",
        "  #Input: x is a numpy array of size 2 \r\n",
        "  assert type(x) is np.ndarray and len(x) == 2 #do not allow arbitrary arguments \r\n",
        "  #after checking if the argument is valid, we can compute the gradient value\r\n",
        "  #compute the gradient value and return it \r\n",
        "  return np.array([2*(x[0]-2), 2*(x[1]+3)])"
      ],
      "execution_count": 3,
      "outputs": []
    },
    {
      "cell_type": "code",
      "metadata": {
        "id": "f3blM08V0HOl"
      },
      "source": [
        "#Complete the module to compute the steplength by using the closed-form expression\r\n",
        "def compute_steplength_exact(gradf, A): #add appropriate arguments to the function \r\n",
        "  assert type(gradf) is np.ndarray and len(gradf) == 2 \r\n",
        "  assert type(A) is np.ndarray and A.shape[0] == 2 and  A.shape[1] == 2 #allow only a 2x2 array\r\n",
        "   \r\n",
        "  step_length = (np.dot(gradf.T, gradf)) / (np.matmul(np.matmul(gradf.T,2*A ),gradf))\r\n",
        "  \r\n",
        "  return step_length"
      ],
      "execution_count": 4,
      "outputs": []
    },
    {
      "cell_type": "code",
      "metadata": {
        "id": "PGunDYy6Q21S"
      },
      "source": [
        "#Complete the module to compute the steplength by using the backtracking line search\r\n",
        "def compute_steplength_backtracking(x, gradf, alpha_start, rho, gamma): #add appropriate arguments to the function \r\n",
        "  assert type(x) is np.ndarray and len(gradf) == 2 \r\n",
        "  assert type(gradf) is np.ndarray and len(gradf) == 2 \r\n",
        "  \r\n",
        "  alpha = alpha_start\r\n",
        "  p = -gradf\r\n",
        "\r\n",
        "  while (evalf(x + alpha*p) > (evalf(x) + gamma * alpha * np.dot(gradf.T, p)) ):\r\n",
        "    alpha = alpha*rho\r\n",
        "  \r\n",
        "  #print('final step length:',alpha)\r\n",
        "  return alpha"
      ],
      "execution_count": 5,
      "outputs": []
    },
    {
      "cell_type": "code",
      "metadata": {
        "id": "WaUUdzLtVSCl"
      },
      "source": [
        "#we define the types of line search methods that we have implemented\r\n",
        "EXACT_LINE_SEARCH = 1\r\n",
        "BACKTRACKING_LINE_SEARCH = 2\r\n",
        "CONSTANT_STEP_LENGTH = 3"
      ],
      "execution_count": 6,
      "outputs": []
    },
    {
      "cell_type": "code",
      "metadata": {
        "id": "3SCJdqivdpxx"
      },
      "source": [
        "def find_minimizer(start_x, tol, line_search_type, *args):\r\n",
        "  #Input: start_x is a numpy array of size 2, tol denotes the tolerance and is a positive float value\r\n",
        "  assert type(start_x) is np.ndarray and len(start_x) == 2 #do not allow arbitrary arguments \r\n",
        "  assert type(tol) is float and tol>=0 \r\n",
        "  # construct a suitable A matrix for the quadratic function \r\n",
        "  A = np.array([[1, 0],[0,1]])\r\n",
        "  x = start_x\r\n",
        "  g_x = evalg(x)\r\n",
        "\r\n",
        "  #initialization for backtracking line search\r\n",
        "  if(line_search_type == BACKTRACKING_LINE_SEARCH):\r\n",
        "    alpha_start = args[0]\r\n",
        "    rho = args[1]\r\n",
        "    gamma = args[2]\r\n",
        "    #print('Params for Backtracking LS: alpha start:', alpha_start, 'rho:', rho,' gamma:', gamma)\r\n",
        "\r\n",
        "  k = 0\r\n",
        "  #print('iter:',k, ' x:', x, ' f(x):', evalf(x), ' grad at x:', g_x, ' gradient norm:', np.linalg.norm(g_x))\r\n",
        "\r\n",
        "  while (np.linalg.norm(g_x) > tol): #continue as long as the norm of gradient is not close to zero upto a tolerance tol\r\n",
        "  \r\n",
        "    if line_search_type == EXACT_LINE_SEARCH:\r\n",
        "      step_length = compute_steplength_exact(g_x, A) #call the new function you wrote to compute the steplength\r\n",
        "      #raise ValueError('EXACT LINE SEARCH NOT YET IMPLEMENTED')\r\n",
        "\r\n",
        "    elif line_search_type == BACKTRACKING_LINE_SEARCH:\r\n",
        "      step_length = compute_steplength_backtracking(x,g_x, alpha_start,rho, gamma) #call the new function you wrote to compute the steplength\r\n",
        "      #raise ValueError('BACKTRACKING LINE SEARCH NOT YET IMPLEMENTED')\r\n",
        "\r\n",
        "    elif line_search_type == CONSTANT_STEP_LENGTH: #do a gradient descent with constant step length\r\n",
        "      step_length = 0.1\r\n",
        "\r\n",
        "    else:  \r\n",
        "      raise ValueError('Line search type unknown. Please check!')\r\n",
        "    \r\n",
        "    #implement the gradient descent steps here   \r\n",
        "    x = np.subtract(x, np.multiply(step_length,g_x)) #update x = x - step_length*g_x\r\n",
        "    k += 1 #increment iteration\r\n",
        "    g_x = evalg(x) #compute gradient at new point\r\n",
        "\r\n",
        "    #print('iter:',k, ' x:', x, ' f(x):', evalf(x), ' grad at x:', g_x, ' gradient norm:', np.linalg.norm(g_x))\r\n",
        "  return x,k \r\n"
      ],
      "execution_count": 13,
      "outputs": []
    },
    {
      "cell_type": "markdown",
      "metadata": {
        "id": "jxLizcLJ5Xz_"
      },
      "source": [
        "# ***Part 3*** : *Minimizer and the minimum value for*\r\n",
        "\r\n",
        "$f( x) \\ =\\ ( x_{1} -2)^{2} +( x_{2} +3)^{2}$\r\n",
        "\r\n",
        "\r\n"
      ]
    },
    {
      "cell_type": "code",
      "metadata": {
        "id": "n-kHCkbwe-M4",
        "colab": {
          "base_uri": "https://localhost:8080/"
        },
        "outputId": "9ba0f72d-f5f5-49d8-ad64-ce5a25fefd72"
      },
      "source": [
        "\r\n",
        "my_start_x = np.array([5,5])\r\n",
        "my_tol= 1e-5\r\n",
        "\r\n",
        "print('Using Exact line search  :- ')\r\n",
        "x_opt, k_opt = find_minimizer(my_start_x, my_tol, CONSTANT_STEP_LENGTH)\r\n",
        "print('The optimal value of x1 and x2 are :',x_opt)\r\n",
        "print('The value of the function at this point :' , evalf(x_opt))\r\n",
        "\r\n",
        "print('\\n')\r\n",
        "\r\n",
        "#check what happens when you call find_minimzer using backtracking line search\r\n",
        "print('Using Backtracking Line search :- ')\r\n",
        "x_opt_bls, k_opt_bls = find_minimizer(my_start_x, my_tol, BACKTRACKING_LINE_SEARCH, 1, 0.5,0.5)\r\n",
        "print('The optimal value of x : ',x_opt_bls)\r\n",
        "print('The minimum value of f(x) at x :', evalf(x_opt_bls))\r\n"
      ],
      "execution_count": 46,
      "outputs": [
        {
          "output_type": "stream",
          "text": [
            "Using Exact line search  :- \n",
            "The optimal value of x1 and x2 are : [ 2.00000151 -2.99999598]\n",
            "The value of the function at this point : 1.8408617293418483e-11\n",
            "\n",
            "\n",
            "Using Backtracking Line search :- \n",
            "The optimal value of x :  [ 2. -3.]\n",
            "The minimum value of f(x) at x : 0.0\n"
          ],
          "name": "stdout"
        }
      ]
    },
    {
      "cell_type": "markdown",
      "metadata": {
        "id": "R4Ia6XSt6gR4"
      },
      "source": [
        "# ***Part4:*** *Comparing exact line search with backtracking*\r\n",
        "\r\n",
        " \\begin{array}{l}\r\n",
        "\\tau \\ =\\ 10^{-12}\\\\\r\n",
        "x^{0} =\\ ( 0,10)\\\\\r\n",
        "\\\\\r\n",
        "\\alpha ^{0} \\ =1\\\\\r\n",
        "\\rho \\ =\\ 0.5\\\\\r\n",
        "\\gamma \\ =\\ 0.5\\ \r\n",
        "\\end{array}"
      ]
    },
    {
      "cell_type": "code",
      "metadata": {
        "id": "GcsCIAntMNdb",
        "colab": {
          "base_uri": "https://localhost:8080/"
        },
        "outputId": "41c99206-dbac-4668-ee98-078e795035aa"
      },
      "source": [
        "my_start_x = np.array([0,10])\r\n",
        "my_tol= 10e-12\r\n",
        "\r\n",
        "alpha_initial = 1\r\n",
        "rho_ = 0.5\r\n",
        "gamma_ = 0.5\r\n",
        "\r\n",
        "x_opt_els, k_els = find_minimizer(my_start_x, my_tol,EXACT_LINE_SEARCH)\r\n",
        "x_opt_bls, k_bls = find_minimizer(my_start_x, my_tol,BACKTRACKING_LINE_SEARCH, alpha_initial,rho_, gamma_ )\r\n",
        "\r\n",
        "print('\\n')\r\n",
        "print('No. of iterations in Exact Line Search :', k_els)\r\n",
        "print('No. of iterations in Backtracking Line Search :', k_bls)\r\n",
        "\r\n",
        "\r\n",
        "\r\n"
      ],
      "execution_count": 9,
      "outputs": [
        {
          "output_type": "stream",
          "text": [
            "Params for Backtracking LS: alpha start: 1 rho: 0.5  gamma: 0.5\n",
            "\n",
            "\n",
            "No. of iterations in Exact Line Search : 1\n",
            "No. of iterations in Backtracking Line Search : 1\n"
          ],
          "name": "stdout"
        }
      ]
    },
    {
      "cell_type": "markdown",
      "metadata": {
        "id": "Eg6QdR31Dyac"
      },
      "source": [
        "***Remarks :*** *We observe that in both the cases the number of iteration is just 1. In the ELS, we minimised a quardratic function to solve for the optimal value of step size that minimize f(x). Since this function was quadratic it was easy to calculate such value in closed form. In BLS we take some initial value of alpha and then redunce it such that $f(x+ \\alpha p) < f(x)$ This method is also useful in higher dimensions and guarantees sort of that alpha*\r\n",
        "\r\n",
        "\r\n",
        "\r\n"
      ]
    },
    {
      "cell_type": "markdown",
      "metadata": {
        "id": "XRulPb3pKBA7"
      },
      "source": [
        "# ***Part 5:*** *Behavior of the backtracking linesearch algorithm for different choices of $\\alpha^0$*\r\n",
        "\r\n",
        "$\\alpha^0 \\in {\\{ 1,0.9,0.75,0.6,0.5,0.4,0.25,0.1,0.01 \\}}$\r\n",
        "\r\n",
        "$x^0 = (10,10)$\r\n",
        "\r\n",
        "$\\tau = 10^{-9} $\r\n",
        "\r\n",
        "$\\rho \\ =\\ 0.5\\\\$\r\n",
        "\r\n",
        "$\\gamma \\ =\\ 0.5\\ $\r\n",
        "\r\n"
      ]
    },
    {
      "cell_type": "code",
      "metadata": {
        "id": "oq5VIuEQ7kaD",
        "colab": {
          "base_uri": "https://localhost:8080/",
          "height": 649
        },
        "outputId": "0debb1fc-0500-4301-d87d-65c826956bc6"
      },
      "source": [
        "my_start_x = np.array([10,10])\r\n",
        "my_tol= 10e-9\r\n",
        "\r\n",
        "alpha_arr = np.array([1,0.9,0.75, 0.6,0.5,0.4,0.25,0.1,0.01])\r\n",
        "rho_ = 0.5\r\n",
        "gamma_ = 0.5\r\n",
        "\r\n",
        "\r\n",
        "\r\n",
        "\r\n",
        "x_arr_bls = []\r\n",
        "iter_bls = []\r\n",
        "\r\n",
        "for i in alpha_arr:\r\n",
        "\r\n",
        "  x, k = find_minimizer(my_start_x,my_tol,BACKTRACKING_LINE_SEARCH,i, rho_, gamma_ )\r\n",
        "  x_arr_bls.append(x)\r\n",
        "  iter_bls.append(k)\r\n",
        "\r\n",
        "\r\n",
        "x_els, k_els = find_minimizer(my_start_x, my_tol, EXACT_LINE_SEARCH) \r\n",
        "\r\n",
        "df = pd.DataFrame(columns=['alpha', 'x_bls', 'f(x_bls)','iterations_bls', 'x_els', 'f(x_els)', 'iterations_els'])\r\n",
        "\r\n",
        "df['alpha'] = alpha_arr\r\n",
        "df['x_bls'] = x_arr_bls\r\n",
        "df['f(x_bls)'] = df['x_bls'].apply(evalf)\r\n",
        "df['iterations_bls'] = iter_bls\r\n",
        "df['x_els'] = str(x_els)\r\n",
        "df['f(x_els)'] = evalf(x_els)\r\n",
        "df['iterations_els'] = k_els\r\n",
        "\r\n",
        "display(df)\r\n",
        "\r\n",
        "print('\\n\\n')\r\n",
        "plt.plot(alpha_arr, iter_bls, label='Backtraking Line search')\r\n",
        "plt.plot(alpha_arr, [k_els]*9, label='Exact Line Search')\r\n",
        "plt.xlabel('Initial Alpha')\r\n",
        "plt.ylabel('Iterations')\r\n",
        "plt.legend()\r\n",
        "plt.show()\r\n",
        "\r\n",
        "\r\n",
        "\r\n",
        "\r\n"
      ],
      "execution_count": 43,
      "outputs": [
        {
          "output_type": "display_data",
          "data": {
            "text/html": [
              "<div>\n",
              "<style scoped>\n",
              "    .dataframe tbody tr th:only-of-type {\n",
              "        vertical-align: middle;\n",
              "    }\n",
              "\n",
              "    .dataframe tbody tr th {\n",
              "        vertical-align: top;\n",
              "    }\n",
              "\n",
              "    .dataframe thead th {\n",
              "        text-align: right;\n",
              "    }\n",
              "</style>\n",
              "<table border=\"1\" class=\"dataframe\">\n",
              "  <thead>\n",
              "    <tr style=\"text-align: right;\">\n",
              "      <th></th>\n",
              "      <th>alpha</th>\n",
              "      <th>x_bls</th>\n",
              "      <th>f(x_bls)</th>\n",
              "      <th>iterations_bls</th>\n",
              "      <th>x_els</th>\n",
              "      <th>f(x_els)</th>\n",
              "      <th>iterations_els</th>\n",
              "    </tr>\n",
              "  </thead>\n",
              "  <tbody>\n",
              "    <tr>\n",
              "      <th>0</th>\n",
              "      <td>1.00</td>\n",
              "      <td>[2.0, -3.0]</td>\n",
              "      <td>0.000000e+00</td>\n",
              "      <td>1</td>\n",
              "      <td>[ 2. -3.]</td>\n",
              "      <td>0.0</td>\n",
              "      <td>1</td>\n",
              "    </tr>\n",
              "    <tr>\n",
              "      <th>1</th>\n",
              "      <td>0.90</td>\n",
              "      <td>[2.0000000008, -2.9999999987]</td>\n",
              "      <td>2.330000e-18</td>\n",
              "      <td>10</td>\n",
              "      <td>[ 2. -3.]</td>\n",
              "      <td>0.0</td>\n",
              "      <td>1</td>\n",
              "    </tr>\n",
              "    <tr>\n",
              "      <th>2</th>\n",
              "      <td>0.75</td>\n",
              "      <td>[2.000000001862645, -2.9999999969732016]</td>\n",
              "      <td>1.263096e-17</td>\n",
              "      <td>16</td>\n",
              "      <td>[ 2. -3.]</td>\n",
              "      <td>0.0</td>\n",
              "      <td>1</td>\n",
              "    </tr>\n",
              "    <tr>\n",
              "      <th>3</th>\n",
              "      <td>0.60</td>\n",
              "      <td>[2.0000000022517996, -2.9999999963408253]</td>\n",
              "      <td>1.846016e-17</td>\n",
              "      <td>24</td>\n",
              "      <td>[ 2. -3.]</td>\n",
              "      <td>0.0</td>\n",
              "      <td>1</td>\n",
              "    </tr>\n",
              "    <tr>\n",
              "      <th>4</th>\n",
              "      <td>0.50</td>\n",
              "      <td>[2.0, -3.0]</td>\n",
              "      <td>0.000000e+00</td>\n",
              "      <td>1</td>\n",
              "      <td>[ 2. -3.]</td>\n",
              "      <td>0.0</td>\n",
              "      <td>1</td>\n",
              "    </tr>\n",
              "    <tr>\n",
              "      <th>5</th>\n",
              "      <td>0.40</td>\n",
              "      <td>[2.00000000131072, -2.99999999787008]</td>\n",
              "      <td>6.254545e-18</td>\n",
              "      <td>14</td>\n",
              "      <td>[ 2. -3.]</td>\n",
              "      <td>0.0</td>\n",
              "      <td>1</td>\n",
              "    </tr>\n",
              "    <tr>\n",
              "      <th>6</th>\n",
              "      <td>0.25</td>\n",
              "      <td>[2.000000001862645, -2.9999999969732016]</td>\n",
              "      <td>1.263096e-17</td>\n",
              "      <td>32</td>\n",
              "      <td>[ 2. -3.]</td>\n",
              "      <td>0.0</td>\n",
              "      <td>1</td>\n",
              "    </tr>\n",
              "    <tr>\n",
              "      <th>7</th>\n",
              "      <td>0.10</td>\n",
              "      <td>[2.0000000025462947, -2.9999999958622707]</td>\n",
              "      <td>2.360442e-17</td>\n",
              "      <td>98</td>\n",
              "      <td>[ 2. -3.]</td>\n",
              "      <td>0.0</td>\n",
              "      <td>1</td>\n",
              "    </tr>\n",
              "    <tr>\n",
              "      <th>8</th>\n",
              "      <td>0.01</td>\n",
              "      <td>[2.000000002568644, -2.999999995825952]</td>\n",
              "      <td>2.402061e-17</td>\n",
              "      <td>1082</td>\n",
              "      <td>[ 2. -3.]</td>\n",
              "      <td>0.0</td>\n",
              "      <td>1</td>\n",
              "    </tr>\n",
              "  </tbody>\n",
              "</table>\n",
              "</div>"
            ],
            "text/plain": [
              "   alpha                                      x_bls  ...  f(x_els)  iterations_els\n",
              "0   1.00                                [2.0, -3.0]  ...       0.0               1\n",
              "1   0.90              [2.0000000008, -2.9999999987]  ...       0.0               1\n",
              "2   0.75   [2.000000001862645, -2.9999999969732016]  ...       0.0               1\n",
              "3   0.60  [2.0000000022517996, -2.9999999963408253]  ...       0.0               1\n",
              "4   0.50                                [2.0, -3.0]  ...       0.0               1\n",
              "5   0.40      [2.00000000131072, -2.99999999787008]  ...       0.0               1\n",
              "6   0.25   [2.000000001862645, -2.9999999969732016]  ...       0.0               1\n",
              "7   0.10  [2.0000000025462947, -2.9999999958622707]  ...       0.0               1\n",
              "8   0.01    [2.000000002568644, -2.999999995825952]  ...       0.0               1\n",
              "\n",
              "[9 rows x 7 columns]"
            ]
          },
          "metadata": {
            "tags": []
          }
        },
        {
          "output_type": "stream",
          "text": [
            "\n",
            "\n",
            "\n"
          ],
          "name": "stdout"
        },
        {
          "output_type": "display_data",
          "data": {
            "image/png": "[encoded data removed]",
            "text/plain": [
              "<Figure size 432x288 with 1 Axes>"
            ]
          },
          "metadata": {
            "tags": [],
            "needs_background": "light"
          }
        }
      ]
    },
    {
      "cell_type": "markdown",
      "metadata": {
        "id": "vZhtbr-y9CV2"
      },
      "source": [
        "***Remarks :*** *We observe that the number of iterations performed by ELS is always 1 and is always less than equal to that of performed by the BLS. Also the lesset the value of the initial alpha the more iterations it takes to find the optimal value of the function. Since the given function f is a quadratic function, ELS has an advantage over BLS in calculating the optimal value faster. When the step size is in fact 0.5, even BLS calculates the answer in 1 iteration. The optimal value of x is (2, -3) and the value of the function at this point is zero*"
      ]
    },
    {
      "cell_type": "markdown",
      "metadata": {
        "id": "afOx1Aq999jJ"
      },
      "source": [
        "# ***Part 6:*** *Behavior of the backtracking linesearch algorithm for different choices of $\\rho$*\r\n",
        "\r\n",
        "$\\alpha^0 = 1$\r\n",
        "\r\n",
        "$x^0 = (10,10)$\r\n",
        "\r\n",
        "$\\tau = 10^{-9} $\r\n",
        "\r\n",
        "$\\rho \\in \\{0.9, 0.8, 0.75, 0.6, 0.5, 0.4, 0.25, 0.1, 0.01\\} $\r\n",
        "\r\n",
        "$\\gamma =0.5$\r\n",
        "\r\n"
      ]
    },
    {
      "cell_type": "code",
      "metadata": {
        "colab": {
          "base_uri": "https://localhost:8080/",
          "height": 649
        },
        "id": "5hi3N8oI8-Eq",
        "outputId": "7967d311-1cb0-43fe-b652-f4e7bb8f5793"
      },
      "source": [
        "my_start_x = np.array([10,10])\r\n",
        "my_tol= 10e-9\r\n",
        "\r\n",
        "alpha_initial = 1 \r\n",
        "rho_arr = np.array([0.9, 0.8, 0.75, 0.6,0.5,0.4,0.25,0.1,0.01])\r\n",
        "gamma_ = 0.5\r\n",
        "\r\n",
        "\r\n",
        "\r\n",
        "\r\n",
        "x_arr_bls = []\r\n",
        "iter_bls = []\r\n",
        "\r\n",
        "for i in rho_arr:\r\n",
        "\r\n",
        "  x, k = find_minimizer(my_start_x,my_tol,BACKTRACKING_LINE_SEARCH,alpha_initial,i, gamma_ )\r\n",
        "  x_arr_bls.append(x)\r\n",
        "  iter_bls.append(k)\r\n",
        "\r\n",
        "\r\n",
        "x_els, k_els = find_minimizer(my_start_x, my_tol, EXACT_LINE_SEARCH) \r\n",
        "\r\n",
        "df = pd.DataFrame(columns=['rho', 'x_bls', 'f(x_bls)','iterations_bls', 'x_els', 'f(x_els)', 'iterations_els'])\r\n",
        "\r\n",
        "df['rho'] = rho_arr\r\n",
        "df['x_bls'] = x_arr_bls\r\n",
        "df['f(x_bls)'] = df['x_bls'].apply(evalf)\r\n",
        "df['iterations_bls'] = iter_bls\r\n",
        "df['x_els'] = str(x_els)\r\n",
        "df['f(x_els)'] = evalf(x_els)\r\n",
        "df['iterations_els'] = k_els\r\n",
        "\r\n",
        "display(df)\r\n",
        "\r\n",
        "print('\\n\\n')\r\n",
        "plt.plot(rho_arr, iter_bls, label='Backtraking Line search')\r\n",
        "plt.plot(rho_arr, [k_els]*9, label='Exact Line Search')\r\n",
        "plt.xlabel('Rho')\r\n",
        "plt.ylabel('Iterations')\r\n",
        "plt.legend()\r\n",
        "plt.show()\r\n",
        "\r\n",
        "\r\n"
      ],
      "execution_count": 45,
      "outputs": [
        {
          "output_type": "display_data",
          "data": {
            "text/html": [
              "<div>\n",
              "<style scoped>\n",
              "    .dataframe tbody tr th:only-of-type {\n",
              "        vertical-align: middle;\n",
              "    }\n",
              "\n",
              "    .dataframe tbody tr th {\n",
              "        vertical-align: top;\n",
              "    }\n",
              "\n",
              "    .dataframe thead th {\n",
              "        text-align: right;\n",
              "    }\n",
              "</style>\n",
              "<table border=\"1\" class=\"dataframe\">\n",
              "  <thead>\n",
              "    <tr style=\"text-align: right;\">\n",
              "      <th></th>\n",
              "      <th>rho</th>\n",
              "      <th>x_bls</th>\n",
              "      <th>f(x_bls)</th>\n",
              "      <th>iterations_bls</th>\n",
              "      <th>x_els</th>\n",
              "      <th>f(x_els)</th>\n",
              "      <th>iterations_els</th>\n",
              "    </tr>\n",
              "  </thead>\n",
              "  <tbody>\n",
              "    <tr>\n",
              "      <th>0</th>\n",
              "      <td>0.90</td>\n",
              "      <td>[2.000000002322482, -2.999999996225967]</td>\n",
              "      <td>1.963725e-17</td>\n",
              "      <td>7</td>\n",
              "      <td>[ 2. -3.]</td>\n",
              "      <td>0.0</td>\n",
              "      <td>1</td>\n",
              "    </tr>\n",
              "    <tr>\n",
              "      <th>1</th>\n",
              "      <td>0.80</td>\n",
              "      <td>[2.0000000017646946, -2.9999999971323716]</td>\n",
              "      <td>1.133744e-17</td>\n",
              "      <td>13</td>\n",
              "      <td>[ 2. -3.]</td>\n",
              "      <td>0.0</td>\n",
              "      <td>1</td>\n",
              "    </tr>\n",
              "    <tr>\n",
              "      <th>2</th>\n",
              "      <td>0.75</td>\n",
              "      <td>[2.0000000016940658, -2.999999997247143]</td>\n",
              "      <td>1.044808e-17</td>\n",
              "      <td>12</td>\n",
              "      <td>[ 2. -3.]</td>\n",
              "      <td>0.0</td>\n",
              "      <td>1</td>\n",
              "    </tr>\n",
              "    <tr>\n",
              "      <th>3</th>\n",
              "      <td>0.60</td>\n",
              "      <td>[2.0000000008952297, -2.9999999985452517]</td>\n",
              "      <td>2.917729e-18</td>\n",
              "      <td>18</td>\n",
              "      <td>[ 2. -3.]</td>\n",
              "      <td>0.0</td>\n",
              "      <td>1</td>\n",
              "    </tr>\n",
              "    <tr>\n",
              "      <th>4</th>\n",
              "      <td>0.50</td>\n",
              "      <td>[2.0, -3.0]</td>\n",
              "      <td>0.000000e+00</td>\n",
              "      <td>1</td>\n",
              "      <td>[ 2. -3.]</td>\n",
              "      <td>0.0</td>\n",
              "      <td>1</td>\n",
              "    </tr>\n",
              "    <tr>\n",
              "      <th>5</th>\n",
              "      <td>0.40</td>\n",
              "      <td>[2.00000000131072, -2.99999999787008]</td>\n",
              "      <td>6.254545e-18</td>\n",
              "      <td>14</td>\n",
              "      <td>[ 2. -3.]</td>\n",
              "      <td>0.0</td>\n",
              "      <td>1</td>\n",
              "    </tr>\n",
              "    <tr>\n",
              "      <th>6</th>\n",
              "      <td>0.25</td>\n",
              "      <td>[2.000000001862645, -2.9999999969732016]</td>\n",
              "      <td>1.263096e-17</td>\n",
              "      <td>32</td>\n",
              "      <td>[ 2. -3.]</td>\n",
              "      <td>0.0</td>\n",
              "      <td>1</td>\n",
              "    </tr>\n",
              "    <tr>\n",
              "      <th>7</th>\n",
              "      <td>0.10</td>\n",
              "      <td>[2.0000000025462947, -2.9999999958622707]</td>\n",
              "      <td>2.360442e-17</td>\n",
              "      <td>98</td>\n",
              "      <td>[ 2. -3.]</td>\n",
              "      <td>0.0</td>\n",
              "      <td>1</td>\n",
              "    </tr>\n",
              "    <tr>\n",
              "      <th>8</th>\n",
              "      <td>0.01</td>\n",
              "      <td>[2.000000002568644, -2.999999995825952]</td>\n",
              "      <td>2.402061e-17</td>\n",
              "      <td>1082</td>\n",
              "      <td>[ 2. -3.]</td>\n",
              "      <td>0.0</td>\n",
              "      <td>1</td>\n",
              "    </tr>\n",
              "  </tbody>\n",
              "</table>\n",
              "</div>"
            ],
            "text/plain": [
              "    rho                                      x_bls  ...  f(x_els)  iterations_els\n",
              "0  0.90    [2.000000002322482, -2.999999996225967]  ...       0.0               1\n",
              "1  0.80  [2.0000000017646946, -2.9999999971323716]  ...       0.0               1\n",
              "2  0.75   [2.0000000016940658, -2.999999997247143]  ...       0.0               1\n",
              "3  0.60  [2.0000000008952297, -2.9999999985452517]  ...       0.0               1\n",
              "4  0.50                                [2.0, -3.0]  ...       0.0               1\n",
              "5  0.40      [2.00000000131072, -2.99999999787008]  ...       0.0               1\n",
              "6  0.25   [2.000000001862645, -2.9999999969732016]  ...       0.0               1\n",
              "7  0.10  [2.0000000025462947, -2.9999999958622707]  ...       0.0               1\n",
              "8  0.01    [2.000000002568644, -2.999999995825952]  ...       0.0               1\n",
              "\n",
              "[9 rows x 7 columns]"
            ]
          },
          "metadata": {
            "tags": []
          }
        },
        {
          "output_type": "stream",
          "text": [
            "\n",
            "\n",
            "\n"
          ],
          "name": "stdout"
        },
        {
          "output_type": "display_data",
          "data": {
            "image/png": "[encoded data removed]",
            "text/plain": [
              "<Figure size 432x288 with 1 Axes>"
            ]
          },
          "metadata": {
            "tags": [],
            "needs_background": "light"
          }
        }
      ]
    },
    {
      "cell_type": "markdown",
      "metadata": {
        "id": "NLiuZcgRAeHk"
      },
      "source": [
        "***Remarks :*** *We observe that as $\\rho$ decreases the number of iterations performed increases. Because the update in the value of $\\alpha$ is determined by $\\rho$. If the value of $\\rho$ is less, $\\alpha$ updates very slowly. Also since the f(x) here is a qudratic function, we see that ELS outperforms BLS since we can get the perfect closed form solution for the step size in ELS*"
      ]
    },
    {
      "cell_type": "code",
      "metadata": {
        "id": "IwgjZM5pVv-8"
      },
      "source": [
        ""
      ],
      "execution_count": null,
      "outputs": []
    }
  ]
}