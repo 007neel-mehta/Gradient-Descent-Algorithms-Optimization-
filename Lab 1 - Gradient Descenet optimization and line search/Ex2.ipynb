{
  "nbformat": 4,
  "nbformat_minor": 0,
  "metadata": {
    "colab": {
      "name": "20i190008_IE684_Lab1_Ex2.ipynb",
      "provenance": [],
      "collapsed_sections": []
    },
    "kernelspec": {
      "name": "python3",
      "display_name": "Python 3"
    }
  },
  "cells": [
    {
      "cell_type": "markdown",
      "metadata": {
        "id": "nVE0Xoa0Q5wE"
      },
      "source": [
        "$\\Large\\textbf{Lab 1. Exercise 2. }$\r\n",
        "\r\n",
        "Now we will consider a slightly different algorithm which can be used to find a minimizer of the function $f(\\mathbf{x})=f(x_1,x_2)= (x_1-10)^2 + (x_2+2)^2$. "
      ]
    },
    {
      "cell_type": "markdown",
      "metadata": {
        "id": "0gpe6eGRLvSh"
      },
      "source": [
        "$\\textbf{[R]}$ Write the function $f(\\mathbf{x})$ in the form $\\mathbf{x}^\\top \\mathbf{A} \\mathbf{x} + 2 \\mathbf{b}^\\top \\mathbf{x} + c$, where $\\mathbf{x}\\in {\\mathbb{R}}^2$, $\\mathbf{A}$ is a symmetric matrix of size $2 \\times 2$, $\\mathbf{b}\\in{\\mathbb{R}}^2$ and $c\\in\\mathbb{R}$. \r\n",
        "\r\n"
      ]
    },
    {
      "cell_type": "markdown",
      "metadata": {
        "id": "CTPeLBt0L7F7"
      },
      "source": [
        " \\begin{array}{l}\r\n",
        "\\ We\\ can\\ write\\ the\\ function\\ f( x) \\ in\\ the\\ following\\ form\\\\\r\n",
        "\\\\\r\n",
        "f( x) \\ =\\ x^{T} Ax\\ +\\ 2b^{T} x\\ +c\\ \\\\\r\n",
        "\\\\\r\n",
        "where\\\\\r\n",
        "\\\\\r\n",
        "x\\ =\\ \\begin{bmatrix}\r\n",
        "x_{1}\\\\\r\n",
        "x_{2}\r\n",
        "\\end{bmatrix} ,\\ \\ A\\ =\\ \\begin{bmatrix}\r\n",
        "1 & 0\\\\\r\n",
        "0 & 1\r\n",
        "\\end{bmatrix} \\ ,\\ b\\ =\\ \\begin{bmatrix}\r\n",
        "-10\\\\\r\n",
        "2\r\n",
        "\\end{bmatrix} \\ ,\\ c\\ =\\ 104\r\n",
        "\\end{array}"
      ]
    },
    {
      "cell_type": "markdown",
      "metadata": {
        "id": "PjANnIQ3L39D"
      },
      "source": [
        "\r\n",
        "$\\textbf{[R]}$ It turns out that for a function $f:{\\mathbb{R}}^n\\rightarrow \\mathbb{R}$ of the form $f(\\mathbf{x})=\\mathbf{x}^\\top \\mathbf{A} \\mathbf{x} + 2 \\mathbf{b}^\\top \\mathbf{x} + c$, where $\\mathbf{A}\\in{\\mathbb{R}}^{n \\times n}$ is a symmetric matrix, $\\mathbf{b} \\in {\\mathbb{R}}^n$ and $c\\in \\mathbb{R}$, the analytical solution to $\\min_{\\alpha \\geq 0} f(\\mathbf{x} - \\alpha \\nabla f(\\mathbf{x}))$ can be found in closed form. Find the solution. "
      ]
    },
    {
      "cell_type": "markdown",
      "metadata": {
        "id": "uai5eDg7Pw-g"
      },
      "source": [
        " \\begin{array}{l}\r\n",
        "Suppose\\ that\\ we\\ are\\ at\\ iteration\\ k\\ with\\ the\\ value\\ x_{k} \\ and\\ we\\ define\\ our\\ descent\\ step\\\\\r\n",
        "x_{k+1} =\\ x_{k} -\\eta \\nabla f( x_{k}) \\ ,\\ \\eta  >0\\\\\r\n",
        "If\\ we\\ substitute\\ this\\ value\\ of\\ x_{k+1} \\ in\\ the\\ function\\ f( x) \\ =\\ x^{T} Ax\\ +2b^{T} x+c\\ ,then\\\\\r\n",
        "we\\ get\\ a\\ second\\ order\\ degree\\ polynomial\\ in\\ \\eta ,\\ say\\ h( \\eta ) .\\ We\\ can\\ then\\ find\\ the\\ \\\\\r\n",
        "minimum\\ of\\ this\\ function\\ by\\ finding\\ the\\ solution\\ to\\ the\\ equation\\ h'( \\eta ) \\ =0\\ and\\ we\\ get\\\\\r\n",
        "\\\\\r\n",
        "\\eta \\ =\\ \\frac{( \\nabla f( x_{k}))^{T} \\ \\nabla f( x_{k})}{( \\nabla f( x_{k}))^{T} \\ 2A \\ \\nabla f( x_{k})}\\\\\r\n",
        "\\end{array}\r\n",
        "\r\n",
        "\r\n",
        " \\begin{array}{l}\r\n",
        "Here\\ we\\ have\\ \\nabla f( x) \\ =\\ g( x) \\ =\\ \\begin{bmatrix}\r\n",
        "2( x_{1} -10)\\\\\r\n",
        "2( x_{2} +2)\r\n",
        "\\end{bmatrix}\\\\\r\n",
        "A\\ =\\ \\begin{bmatrix}\r\n",
        "1 & 0\\\\\r\n",
        "0 & 1\r\n",
        "\\end{bmatrix}\\\\\r\n",
        "We\\ get,\\ \\ \\eta \\ =\\ \\frac{\\begin{bmatrix}\r\n",
        "2( x_{1} -10)\\\\\r\n",
        "2( x_{2} +2)\r\n",
        "\\end{bmatrix}^{T}\\begin{bmatrix}\r\n",
        "2( x_{1} -10)\\\\\r\n",
        "2( x_{2} +2)\r\n",
        "\\end{bmatrix}}{\\begin{bmatrix}\r\n",
        "2( x_{1} -10)\\\\\r\n",
        "2( x_{2} +2)\r\n",
        "\\end{bmatrix}^{T} 2A\\begin{bmatrix}\r\n",
        "2( x_{1} -10)\\\\\r\n",
        "2( x_{2} +2)\r\n",
        "\\end{bmatrix}} \\ =\\ 0.5\\\\\r\n",
        "\\\\\r\n",
        "Hence\\ we\\ observe\\ that\\ the\\ \\eta \\ does\\ not\\ depend\\ on\\ the\\ initial\\ value\\ of\\ the\\ x\\ and\\ hence\\ is\\ constant.\r\n",
        "\\end{array}"
      ]
    },
    {
      "cell_type": "markdown",
      "metadata": {
        "id": "YVkab74DJsRL"
      },
      "source": [
        "We will use this idea to construct a suitable step length finding procedure for our modified algorithm given below: \r\n",
        "\r\n",
        "\r\n",
        "\\begin{align}\r\n",
        "& \\textbf{Input:} \\text{ Starting point $x^0$, Stopping tolerance $\\tau$}  \\\\\r\n",
        "& \\textbf{Initialize } k=0 \\\\ \r\n",
        "&\\textbf{While } \\| \\nabla f(\\mathbf{x}^k) \\|_2 > \\tau \\text{ do:}  \\\\   \r\n",
        "&\\quad \\quad \\eta^k = \\arg\\min_{\\eta\\geq 0} f(\\mathbf{x}^k - \\eta  \\nabla f(\\mathbf{x}^k)) \\\\\r\n",
        "&\\quad \\quad \\mathbf{x}^{k+1} \\leftarrow \\mathbf{x}^k - \\eta^k \\nabla f(\\mathbf{x}^k)  \\\\ \r\n",
        "&\\quad \\quad k = {k+1} \\\\ \r\n",
        "&\\textbf{End While} \\\\\r\n",
        "&\\textbf{Output: } \\mathbf{x}^k\r\n",
        "\\end{align}"
      ]
    },
    {
      "cell_type": "code",
      "metadata": {
        "id": "KJq7tIgIRroP"
      },
      "source": [
        "#numpy package will be used for most of our lab exercises. Please have a look at https://numpy.org/doc/1.19/ for numpy documentation\r\n",
        "#we will first import the numpy package and name it as np\r\n",
        "import numpy as np \r\n",
        "#Henceforth, we can lazily use np to denote the much longer numpy !! "
      ],
      "execution_count": 2,
      "outputs": []
    },
    {
      "cell_type": "code",
      "metadata": {
        "id": "GZjX2IwOR8_X"
      },
      "source": [
        "#Now we will define a function which will compute and return the function value \r\n",
        "def evalf(x):  \r\n",
        "  #Input: x is a numpy array of size 2 \r\n",
        "  assert type(x) is np.ndarray and len(x) == 2 #do not allow arbitrary arguments \r\n",
        "  #after checking if the argument is valid, we can compute the objective function value\r\n",
        "  return (x[0]-10)**2 + (x[1]+2)**2\r\n"
      ],
      "execution_count": 64,
      "outputs": []
    },
    {
      "cell_type": "code",
      "metadata": {
        "id": "6klpwtDra_I8"
      },
      "source": [
        "#Now we will define a function which will compute and return the gradient value as a numpy array \r\n",
        "def evalg(x):  \r\n",
        "  #Input: x is a numpy array of size 2 \r\n",
        "  assert type(x) is np.ndarray and len(x) == 2 #do not allow arbitrary arguments \r\n",
        "  #after checking if the argument is valid, we can compute the gradient value\r\n",
        "  return np.array([2*(x[0]-10),2*(x[1]+2)])"
      ],
      "execution_count": 65,
      "outputs": []
    },
    {
      "cell_type": "code",
      "metadata": {
        "id": "f3blM08V0HOl"
      },
      "source": [
        "#Complete the module to compute the steplength\r\n",
        "def compute_steplength(g_vector, a_matrix):\r\n",
        "\r\n",
        "  assert a_matrix.shape[0] == len(g_vector)\r\n",
        "  assert a_matrix.shape[1] == len(g_vector)\r\n",
        "  step_length = (np.dot(g_vector.T, g_vector)) / (np.matmul(np.matmul(g_vector.T,2*a_matrix ),g_vector))\r\n",
        " \r\n",
        "  return step_length"
      ],
      "execution_count": 66,
      "outputs": []
    },
    {
      "cell_type": "code",
      "metadata": {
        "id": "3SCJdqivdpxx"
      },
      "source": [
        "def find_minimizer(start_x, tol):\r\n",
        "  #Input: start_x is a numpy array of size 2, tol denotes the tolerance and is a positive float value\r\n",
        "  assert type(start_x) is np.ndarray and len(start_x) == 2 #do not allow arbitrary arguments \r\n",
        "  assert type(tol) is float and tol>=0 \r\n",
        "  x = start_x\r\n",
        "  g_x = evalg(x)\r\n",
        "  k = 0\r\n",
        "  a_matrix = np.array([\r\n",
        "                       [1,0],\r\n",
        "                       [0,1]\r\n",
        "                       ])\r\n",
        "  print('iter:',k, ' x:', x, ' f(x):', evalf(x), ' grad at x:', g_x, ' gradient norm:', np.linalg.norm(g_x))\r\n",
        "\r\n",
        "  while (np.linalg.norm(g_x) > tol): #continue as long as the norm of gradient is not close to zero upto a tolerance tol\r\n",
        "    step_length = compute_steplength(g_x,a_matrix) #call the new function you wrote to compute the steplength\r\n",
        "    x = np.subtract(x, np.multiply(step_length,g_x)) #update x = x - step_length*g_x\r\n",
        "    k += 1 #increment iteration\r\n",
        "    g_x = evalg(x) #compute gradient at new point\r\n",
        "    print('iter:',k, ' x:', x, ' f(x):', evalf(x), ' grad at x:', g_x, ' gradient norm:', np.linalg.norm(g_x))\r\n",
        "  return x,k \r\n"
      ],
      "execution_count": 70,
      "outputs": []
    },
    {
      "cell_type": "markdown",
      "metadata": {
        "id": "4utHmL3XqTr2"
      },
      "source": [
        "# Ex2. Part3"
      ]
    },
    {
      "cell_type": "code",
      "metadata": {
        "id": "n-kHCkbwe-M4",
        "colab": {
          "base_uri": "https://localhost:8080/"
        },
        "outputId": "2f3f3109-55e8-49b5-838e-54797bd55265"
      },
      "source": [
        "my_start_x = np.array([0,0])\r\n",
        "my_tol= 1e-3\r\n",
        "find_minimizer(my_start_x, my_tol)"
      ],
      "execution_count": 71,
      "outputs": [
        {
          "output_type": "stream",
          "text": [
            "iter: 0  x: [0 0]  f(x): 104  grad at x: [-20   4]  gradient norm: 20.396078054371138\n",
            "iter: 1  x: [10. -2.]  f(x): 0.0  grad at x: [0. 0.]  gradient norm: 0.0\n"
          ],
          "name": "stdout"
        },
        {
          "output_type": "execute_result",
          "data": {
            "text/plain": [
              "(array([10., -2.]), 1)"
            ]
          },
          "metadata": {
            "tags": []
          },
          "execution_count": 71
        }
      ]
    },
    {
      "cell_type": "markdown",
      "metadata": {
        "id": "1OB1hpeoqb_-"
      },
      "source": [
        "# Part 4 "
      ]
    },
    {
      "cell_type": "code",
      "metadata": {
        "id": "Ft_3BxMzfREx",
        "colab": {
          "base_uri": "https://localhost:8080/",
          "height": 743
        },
        "outputId": "0239d17c-2900-45b7-80cf-62e1e2d6ce12"
      },
      "source": [
        "import matplotlib.pyplot as plt\r\n",
        "import pandas as pd\r\n",
        "\r\n",
        "\r\n",
        "my_start_x = np.array([0,0])\r\n",
        "tol_arr = (10**(-np.linspace(1,12,12))).tolist()\r\n",
        "\r\n",
        "opt_x = []\r\n",
        "opt_fx = []\r\n",
        "iteration = []\r\n",
        "\r\n",
        "for i in tol_arr:\r\n",
        "  a,b = find_minimizer(my_start_x,i)\r\n",
        "  opt_x.append(a)\r\n",
        "  opt_fx.append(evalf(a))\r\n",
        "  iteration.append(b)\r\n",
        "\r\n",
        "\r\n",
        "old_iterations = [24,35,45,55,66,76,86,97,107,117,128,138]\r\n",
        "\r\n",
        "plt.plot(tol_arr,iteration, label ='Exact Line Search')\r\n",
        "plt.plot(tol_arr,old_iterations, label='Fixed Step Length')\r\n",
        "plt.xlabel('Tollerance')\r\n",
        "plt.ylabel('No. of iterations performed')\r\n",
        "plt.legend()\r\n",
        "plt.show()\r\n",
        "print('\\n\\n')\r\n",
        "df = pd.DataFrame(np.array(opt_x), columns = ['Optimal_x1', 'Optimal_x2'])\r\n",
        "df['Tolerance Value'] = tol_arr\r\n",
        "df['Optimal_f(x)'] = opt_fx\r\n",
        "df['number_of_iterations'] = iteration\r\n",
        "df[['Tolerance Value', 'Optimal_x1', 'Optimal_x2', 'Optimal_f(x)', 'number_of_iterations']]\r\n"
      ],
      "execution_count": 69,
      "outputs": [
        {
          "output_type": "display_data",
          "data": {
            "image/png": "[encoded data removed]",
            "text/plain": [
              "<Figure size 432x288 with 1 Axes>"
            ]
          },
          "metadata": {
            "tags": [],
            "needs_background": "light"
          }
        },
        {
          "output_type": "stream",
          "text": [
            "\n",
            "\n",
            "\n"
          ],
          "name": "stdout"
        },
        {
          "output_type": "execute_result",
          "data": {
            "text/html": [
              "<div>\n",
              "<style scoped>\n",
              "    .dataframe tbody tr th:only-of-type {\n",
              "        vertical-align: middle;\n",
              "    }\n",
              "\n",
              "    .dataframe tbody tr th {\n",
              "        vertical-align: top;\n",
              "    }\n",
              "\n",
              "    .dataframe thead th {\n",
              "        text-align: right;\n",
              "    }\n",
              "</style>\n",
              "<table border=\"1\" class=\"dataframe\">\n",
              "  <thead>\n",
              "    <tr style=\"text-align: right;\">\n",
              "      <th></th>\n",
              "      <th>Tolerance Value</th>\n",
              "      <th>Optimal_x1</th>\n",
              "      <th>Optimal_x2</th>\n",
              "      <th>Optimal_f(x)</th>\n",
              "      <th>number_of_iterations</th>\n",
              "    </tr>\n",
              "  </thead>\n",
              "  <tbody>\n",
              "    <tr>\n",
              "      <th>0</th>\n",
              "      <td>1.000000e-01</td>\n",
              "      <td>10.0</td>\n",
              "      <td>-2.0</td>\n",
              "      <td>0.0</td>\n",
              "      <td>1</td>\n",
              "    </tr>\n",
              "    <tr>\n",
              "      <th>1</th>\n",
              "      <td>1.000000e-02</td>\n",
              "      <td>10.0</td>\n",
              "      <td>-2.0</td>\n",
              "      <td>0.0</td>\n",
              "      <td>1</td>\n",
              "    </tr>\n",
              "    <tr>\n",
              "      <th>2</th>\n",
              "      <td>1.000000e-03</td>\n",
              "      <td>10.0</td>\n",
              "      <td>-2.0</td>\n",
              "      <td>0.0</td>\n",
              "      <td>1</td>\n",
              "    </tr>\n",
              "    <tr>\n",
              "      <th>3</th>\n",
              "      <td>1.000000e-04</td>\n",
              "      <td>10.0</td>\n",
              "      <td>-2.0</td>\n",
              "      <td>0.0</td>\n",
              "      <td>1</td>\n",
              "    </tr>\n",
              "    <tr>\n",
              "      <th>4</th>\n",
              "      <td>1.000000e-05</td>\n",
              "      <td>10.0</td>\n",
              "      <td>-2.0</td>\n",
              "      <td>0.0</td>\n",
              "      <td>1</td>\n",
              "    </tr>\n",
              "    <tr>\n",
              "      <th>5</th>\n",
              "      <td>1.000000e-06</td>\n",
              "      <td>10.0</td>\n",
              "      <td>-2.0</td>\n",
              "      <td>0.0</td>\n",
              "      <td>1</td>\n",
              "    </tr>\n",
              "    <tr>\n",
              "      <th>6</th>\n",
              "      <td>1.000000e-07</td>\n",
              "      <td>10.0</td>\n",
              "      <td>-2.0</td>\n",
              "      <td>0.0</td>\n",
              "      <td>1</td>\n",
              "    </tr>\n",
              "    <tr>\n",
              "      <th>7</th>\n",
              "      <td>1.000000e-08</td>\n",
              "      <td>10.0</td>\n",
              "      <td>-2.0</td>\n",
              "      <td>0.0</td>\n",
              "      <td>1</td>\n",
              "    </tr>\n",
              "    <tr>\n",
              "      <th>8</th>\n",
              "      <td>1.000000e-09</td>\n",
              "      <td>10.0</td>\n",
              "      <td>-2.0</td>\n",
              "      <td>0.0</td>\n",
              "      <td>1</td>\n",
              "    </tr>\n",
              "    <tr>\n",
              "      <th>9</th>\n",
              "      <td>1.000000e-10</td>\n",
              "      <td>10.0</td>\n",
              "      <td>-2.0</td>\n",
              "      <td>0.0</td>\n",
              "      <td>1</td>\n",
              "    </tr>\n",
              "    <tr>\n",
              "      <th>10</th>\n",
              "      <td>1.000000e-11</td>\n",
              "      <td>10.0</td>\n",
              "      <td>-2.0</td>\n",
              "      <td>0.0</td>\n",
              "      <td>1</td>\n",
              "    </tr>\n",
              "    <tr>\n",
              "      <th>11</th>\n",
              "      <td>1.000000e-12</td>\n",
              "      <td>10.0</td>\n",
              "      <td>-2.0</td>\n",
              "      <td>0.0</td>\n",
              "      <td>1</td>\n",
              "    </tr>\n",
              "  </tbody>\n",
              "</table>\n",
              "</div>"
            ],
            "text/plain": [
              "    Tolerance Value  Optimal_x1  Optimal_x2  Optimal_f(x)  number_of_iterations\n",
              "0      1.000000e-01        10.0        -2.0           0.0                     1\n",
              "1      1.000000e-02        10.0        -2.0           0.0                     1\n",
              "2      1.000000e-03        10.0        -2.0           0.0                     1\n",
              "3      1.000000e-04        10.0        -2.0           0.0                     1\n",
              "4      1.000000e-05        10.0        -2.0           0.0                     1\n",
              "5      1.000000e-06        10.0        -2.0           0.0                     1\n",
              "6      1.000000e-07        10.0        -2.0           0.0                     1\n",
              "7      1.000000e-08        10.0        -2.0           0.0                     1\n",
              "8      1.000000e-09        10.0        -2.0           0.0                     1\n",
              "9      1.000000e-10        10.0        -2.0           0.0                     1\n",
              "10     1.000000e-11        10.0        -2.0           0.0                     1\n",
              "11     1.000000e-12        10.0        -2.0           0.0                     1"
            ]
          },
          "metadata": {
            "tags": []
          },
          "execution_count": 69
        }
      ]
    },
    {
      "cell_type": "markdown",
      "metadata": {
        "id": "LgAkpaNYx3c-"
      },
      "source": [
        "***Comment :*** *We observe from the above graph that the number of iterations taken by the algorith when the step length was fixed, is higher than that in the algo where we use line search method. When we update the step length after every iteration, the optimal solution is achieved faster.* "
      ]
    },
    {
      "cell_type": "code",
      "metadata": {
        "id": "GcsCIAntMNdb"
      },
      "source": [
        ""
      ],
      "execution_count": 69,
      "outputs": []
    }
  ]
}