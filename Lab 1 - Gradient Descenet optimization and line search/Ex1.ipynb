{
  "nbformat": 4,
  "nbformat_minor": 0,
  "metadata": {
    "colab": {
      "name": "20i190008_IE684_Lab1_Ex1.ipynb",
      "provenance": [],
      "collapsed_sections": []
    },
    "kernelspec": {
      "name": "python3",
      "display_name": "Python 3"
    }
  },
  "cells": [
    {
      "cell_type": "markdown",
      "metadata": {
        "id": "nVE0Xoa0Q5wE"
      },
      "source": [
        "  \r\n",
        "\r\n",
        "$\\large\\textbf{Lab 1 Exercise 1. }$\r\n",
        "\r\n",
        "We will start with a procedure which helps to find a minimizer of the function $f(\\mathbf{x})=f(x_1,x_2)= (x_1-10)^2 + (x_2+2)^2$. \r\n",
        "\r\n",
        "We will use the following gradient descent type algorithm: \r\n",
        "\r\n",
        "\\begin{align}\r\n",
        "& \\textbf{Input:} \\text{ Starting point $x^0$, Stopping tolerance $\\tau$, Steplength $\\eta$}  \\\\\r\n",
        "& \\textbf{Initialize } k=0 \\\\ \r\n",
        "&\\textbf{While } \\| \\nabla f(\\mathbf{x}^k) \\|_2 > \\tau \\text{ do:}  \\\\   \r\n",
        "&\\quad \\quad \\mathbf{x}^{k+1} \\leftarrow \\mathbf{x}^k - \\eta \\nabla f(\\mathbf{x}^k)  \\\\ \r\n",
        "&\\quad \\quad k = {k+1} \\\\ \r\n",
        "&\\textbf{End While} \\\\\r\n",
        "&\\textbf{Output: } \\mathbf{x}^k\r\n",
        "\\end{align}\r\n"
      ]
    },
    {
      "cell_type": "code",
      "metadata": {
        "id": "eRevUm7mD2sO"
      },
      "source": [
        "import numpy as np\r\n",
        "import matplotlib.pyplot as plt\r\n",
        "import pandas as pd\r\n"
      ],
      "execution_count": 2,
      "outputs": []
    },
    {
      "cell_type": "code",
      "metadata": {
        "id": "djMbpSEWEYbd"
      },
      "source": [
        "# Creating a function to evaluate f(x)\r\n",
        "\r\n",
        "def evalf(x):\r\n",
        "  assert type(x) is np.ndarray and len(x) == 2\r\n",
        "  return (x[0]-10)**2 + (x[1]+2)**2\r\n",
        "\r\n",
        "# Creating a function to evaluate the gradient, g(x)and returna numpy array\r\n",
        "\r\n",
        "def evalg(x):\r\n",
        "  assert type(x) is np.ndarray and len(x)==2\r\n",
        "  return np.array([2*(x[0]-10), 2*(x[1]+2)])\r\n",
        "\r\n",
        "# creating a funtion find_minimiser to find the value of x that minimized the function f(x)\r\n",
        "\r\n",
        "def find_minimizer(start_x, tol, step):\r\n",
        "  assert type(start_x) is np.ndarray and len(start_x)==2\r\n",
        "  assert tol>= 0 \r\n",
        "  assert step>= 0\r\n",
        "\r\n",
        "  x = start_x\r\n",
        "  g_x = evalg(x)\r\n",
        "  k =0\r\n",
        "\r\n",
        "  fvals = [evalf(x)]\r\n",
        "  #print('iter:',k, ' x:', x, ' f(x):', evalf(x), ' grad at x:', g_x, ' gradient norm:', np.linalg.norm(g_x))\r\n",
        "\r\n",
        "  while (np.linalg.norm(g_x) > tol):\r\n",
        "    x = np.subtract(x, np.multiply(step,g_x))\r\n",
        "    k += 1\r\n",
        "    g_x = evalg(x)\r\n",
        "\r\n",
        "    fvals.append(evalf(x))\r\n",
        "    #print('iter:',k, ' x:', x, ' f(x):', evalf(x), ' grad at x:', g_x, ' gradient norm:', np.linalg.norm(g_x))\r\n",
        "\r\n",
        "  return x, fvals\r\n",
        "\r\n",
        "\r\n",
        "\r\n"
      ],
      "execution_count": 3,
      "outputs": []
    },
    {
      "cell_type": "code",
      "metadata": {
        "colab": {
          "base_uri": "https://localhost:8080/",
          "height": 316
        },
        "id": "jn3KnkRmE9AX",
        "outputId": "a5543fc6-2466-4ef8-94a2-3e5fe1b16ed3"
      },
      "source": [
        "#Checking the code and plotting the results by initialising a value\r\n",
        "\r\n",
        "my_start_x = np.array([0,0])\r\n",
        "my_steplength = 0.1\r\n",
        "my_tol= 1e-3 #10^{-3} or 0.001\r\n",
        "opt_x, fvals_ret = find_minimizer(my_start_x, my_tol, my_steplength)\r\n",
        "print('Optimal value of x1 and x2 : ', opt_x, '\\n')\r\n",
        "\r\n",
        "\r\n",
        "plt.plot(fvals_ret)\r\n",
        "plt.xlabel('Iterations')\r\n",
        "plt.ylabel('f(x)')\r\n",
        "plt.show()\r\n"
      ],
      "execution_count": 4,
      "outputs": [
        {
          "output_type": "stream",
          "text": [
            "Optimal value of x1 and x2 :  [ 9.99956444 -1.99991289] \n",
            "\n"
          ],
          "name": "stdout"
        },
        {
          "output_type": "display_data",
          "data": {
            "image/png": "[encoded data removed]",
            "text/plain": [
              "<Figure size 432x288 with 1 Axes>"
            ]
          },
          "metadata": {
            "tags": [],
            "needs_background": "light"
          }
        }
      ]
    },
    {
      "cell_type": "markdown",
      "metadata": {
        "id": "uLvZDp2ULMDG"
      },
      "source": [
        "# Ex.1 - Part 2\r\n",
        "\r\n",
        "***The value of the minimizer and the minimum value of the funtion f(x)***"
      ]
    },
    {
      "cell_type": "code",
      "metadata": {
        "colab": {
          "base_uri": "https://localhost:8080/"
        },
        "id": "JO0bczJBIe_H",
        "outputId": "28e322e7-ddd6-4ba7-daf0-2ec6839e8cd2"
      },
      "source": [
        "print('The minimisers x1 and x2 are: ', opt_x )\r\n",
        "print('The minimum value of the function f(x) : ', evalf(opt_x))\r\n"
      ],
      "execution_count": 5,
      "outputs": [
        {
          "output_type": "stream",
          "text": [
            "The minimisers x1 and x2 are:  [ 9.99956444 -1.99991289]\n",
            "The minimum value of the function f(x) :  1.9730230936739685e-07\n"
          ],
          "name": "stdout"
        }
      ]
    },
    {
      "cell_type": "code",
      "metadata": {
        "id": "6ZjJMFNrL4t-"
      },
      "source": [
        ""
      ],
      "execution_count": 5,
      "outputs": []
    },
    {
      "cell_type": "markdown",
      "metadata": {
        "id": "mU-xvkLoMABY"
      },
      "source": [
        "# EX.1 - Part 3\r\n",
        "\r\n",
        "***For different values of the tolerance different iterations are performed and the minimizers and the optimal value of the function is recorded and the plot is also made.***"
      ]
    },
    {
      "cell_type": "code",
      "metadata": {
        "colab": {
          "base_uri": "https://localhost:8080/",
          "height": 743
        },
        "id": "xBmD16rzMzg5",
        "outputId": "4c5c1396-a8b3-4698-8291-565353b92bc8"
      },
      "source": [
        "my_start_x = np.array([0,0])\r\n",
        "my_steplength = 0.1\r\n",
        "\r\n",
        "tol_arr = 10**(-np.linspace(1,12,12))\r\n",
        "\r\n",
        "opt_x = []\r\n",
        "opt_fx = []\r\n",
        "iteration = []\r\n",
        "\r\n",
        "for i in tol_arr:\r\n",
        "  a,b = find_minimizer(my_start_x,i,my_steplength)\r\n",
        "  opt_x.append(a)\r\n",
        "  opt_fx.append(evalf(a))\r\n",
        "  iteration.append(len(b)-1)\r\n",
        "\r\n",
        "\r\n",
        "plt.plot(tol_arr,iteration)\r\n",
        "plt.xlabel('Tollerance')\r\n",
        "plt.ylabel('No. of iterations performed')\r\n",
        "plt.show()\r\n",
        "print('\\n\\n')\r\n",
        "df = pd.DataFrame(np.array(opt_x), columns = ['Optimal_x1', 'Optimal_x2'])\r\n",
        "df['Tolerance Value'] = tol_arr\r\n",
        "df['Optimal_f(x)'] = opt_fx\r\n",
        "df['number_of_iterations'] = iteration\r\n",
        "df[['Tolerance Value', 'Optimal_x1', 'Optimal_x2', 'Optimal_f(x)', 'number_of_iterations']]\r\n"
      ],
      "execution_count": 7,
      "outputs": [
        {
          "output_type": "display_data",
          "data": {
            "image/png": "[encoded data removed]",
            "text/plain": [
              "<Figure size 432x288 with 1 Axes>"
            ]
          },
          "metadata": {
            "tags": [],
            "needs_background": "light"
          }
        },
        {
          "output_type": "stream",
          "text": [
            "\n",
            "\n",
            "\n"
          ],
          "name": "stdout"
        },
        {
          "output_type": "execute_result",
          "data": {
            "text/html": [
              "<div>\n",
              "<style scoped>\n",
              "    .dataframe tbody tr th:only-of-type {\n",
              "        vertical-align: middle;\n",
              "    }\n",
              "\n",
              "    .dataframe tbody tr th {\n",
              "        vertical-align: top;\n",
              "    }\n",
              "\n",
              "    .dataframe thead th {\n",
              "        text-align: right;\n",
              "    }\n",
              "</style>\n",
              "<table border=\"1\" class=\"dataframe\">\n",
              "  <thead>\n",
              "    <tr style=\"text-align: right;\">\n",
              "      <th></th>\n",
              "      <th>Tolerance Value</th>\n",
              "      <th>Optimal_x1</th>\n",
              "      <th>Optimal_x2</th>\n",
              "      <th>Optimal_f(x)</th>\n",
              "      <th>number_of_iterations</th>\n",
              "    </tr>\n",
              "  </thead>\n",
              "  <tbody>\n",
              "    <tr>\n",
              "      <th>0</th>\n",
              "      <td>1.000000e-01</td>\n",
              "      <td>9.952776</td>\n",
              "      <td>-1.990555</td>\n",
              "      <td>2.319278e-03</td>\n",
              "      <td>24</td>\n",
              "    </tr>\n",
              "    <tr>\n",
              "      <th>1</th>\n",
              "      <td>1.000000e-02</td>\n",
              "      <td>9.995944</td>\n",
              "      <td>-1.999189</td>\n",
              "      <td>1.711325e-05</td>\n",
              "      <td>35</td>\n",
              "    </tr>\n",
              "    <tr>\n",
              "      <th>2</th>\n",
              "      <td>1.000000e-03</td>\n",
              "      <td>9.999564</td>\n",
              "      <td>-1.999913</td>\n",
              "      <td>1.973023e-07</td>\n",
              "      <td>45</td>\n",
              "    </tr>\n",
              "    <tr>\n",
              "      <th>3</th>\n",
              "      <td>1.000000e-04</td>\n",
              "      <td>9.999953</td>\n",
              "      <td>-1.999991</td>\n",
              "      <td>2.274741e-09</td>\n",
              "      <td>55</td>\n",
              "    </tr>\n",
              "    <tr>\n",
              "      <th>4</th>\n",
              "      <td>1.000000e-05</td>\n",
              "      <td>9.999996</td>\n",
              "      <td>-1.999999</td>\n",
              "      <td>1.678462e-11</td>\n",
              "      <td>66</td>\n",
              "    </tr>\n",
              "    <tr>\n",
              "      <th>5</th>\n",
              "      <td>1.000000e-06</td>\n",
              "      <td>10.000000</td>\n",
              "      <td>-2.000000</td>\n",
              "      <td>1.935135e-13</td>\n",
              "      <td>76</td>\n",
              "    </tr>\n",
              "    <tr>\n",
              "      <th>6</th>\n",
              "      <td>1.000000e-07</td>\n",
              "      <td>10.000000</td>\n",
              "      <td>-2.000000</td>\n",
              "      <td>2.231059e-15</td>\n",
              "      <td>86</td>\n",
              "    </tr>\n",
              "    <tr>\n",
              "      <th>7</th>\n",
              "      <td>1.000000e-08</td>\n",
              "      <td>10.000000</td>\n",
              "      <td>-2.000000</td>\n",
              "      <td>1.646232e-17</td>\n",
              "      <td>97</td>\n",
              "    </tr>\n",
              "    <tr>\n",
              "      <th>8</th>\n",
              "      <td>1.000000e-09</td>\n",
              "      <td>10.000000</td>\n",
              "      <td>-2.000000</td>\n",
              "      <td>1.897979e-19</td>\n",
              "      <td>107</td>\n",
              "    </tr>\n",
              "    <tr>\n",
              "      <th>9</th>\n",
              "      <td>1.000000e-10</td>\n",
              "      <td>10.000000</td>\n",
              "      <td>-2.000000</td>\n",
              "      <td>2.188135e-21</td>\n",
              "      <td>117</td>\n",
              "    </tr>\n",
              "    <tr>\n",
              "      <th>10</th>\n",
              "      <td>1.000000e-11</td>\n",
              "      <td>10.000000</td>\n",
              "      <td>-2.000000</td>\n",
              "      <td>1.614428e-23</td>\n",
              "      <td>128</td>\n",
              "    </tr>\n",
              "    <tr>\n",
              "      <th>11</th>\n",
              "      <td>1.000000e-12</td>\n",
              "      <td>10.000000</td>\n",
              "      <td>-2.000000</td>\n",
              "      <td>1.858939e-25</td>\n",
              "      <td>138</td>\n",
              "    </tr>\n",
              "  </tbody>\n",
              "</table>\n",
              "</div>"
            ],
            "text/plain": [
              "    Tolerance Value  Optimal_x1  Optimal_x2  Optimal_f(x)  number_of_iterations\n",
              "0      1.000000e-01    9.952776   -1.990555  2.319278e-03                    24\n",
              "1      1.000000e-02    9.995944   -1.999189  1.711325e-05                    35\n",
              "2      1.000000e-03    9.999564   -1.999913  1.973023e-07                    45\n",
              "3      1.000000e-04    9.999953   -1.999991  2.274741e-09                    55\n",
              "4      1.000000e-05    9.999996   -1.999999  1.678462e-11                    66\n",
              "5      1.000000e-06   10.000000   -2.000000  1.935135e-13                    76\n",
              "6      1.000000e-07   10.000000   -2.000000  2.231059e-15                    86\n",
              "7      1.000000e-08   10.000000   -2.000000  1.646232e-17                    97\n",
              "8      1.000000e-09   10.000000   -2.000000  1.897979e-19                   107\n",
              "9      1.000000e-10   10.000000   -2.000000  2.188135e-21                   117\n",
              "10     1.000000e-11   10.000000   -2.000000  1.614428e-23                   128\n",
              "11     1.000000e-12   10.000000   -2.000000  1.858939e-25                   138"
            ]
          },
          "metadata": {
            "tags": []
          },
          "execution_count": 7
        }
      ]
    },
    {
      "cell_type": "markdown",
      "metadata": {
        "id": "j1UMxIKUDLyz"
      },
      "source": [
        "***Comment :*** *As we increase the value of the tollerance, the number of iterations decline. And this result was expected because the less is the value of the tolerance, the more algorith has to work to find the minimum of the function. Its like the accuracy level that we want, the more precise or we can say the more we move towards the real answer, the more number of iterations has to be perofored by the algorithm.*\r\n",
        "\r\n",
        "*Also we observe that after the 5th iteration the optimal value has been reached and decreasing tolerance further does not give us any more advantage. Hence the optimal toleranc value for this is near 5th iteration.*"
      ]
    },
    {
      "cell_type": "markdown",
      "metadata": {
        "id": "PcqWZFusC0Lo"
      },
      "source": [
        "# EX.1 - Part 4\r\n",
        "\r\n",
        "***For different values of the step length different iterations are performed and the minimizers and the optimal value of the function is recorded and the plot is also made.***"
      ]
    },
    {
      "cell_type": "code",
      "metadata": {
        "colab": {
          "base_uri": "https://localhost:8080/",
          "height": 743
        },
        "id": "5Omyq8f3D8ND",
        "outputId": "c47ecaa5-48c6-4d57-f745-d54e9f8f2d9f"
      },
      "source": [
        "my_start_x = np.array([0,0])\r\n",
        "step_arr = np.array([0.001, 0.01, 0.05, 0.1,0.2,0.3,0.4,0.5,0.6,0.7,0.8,0.9])\r\n",
        "my_tol = 10**(-5)\r\n",
        "\r\n",
        "opt_x = []\r\n",
        "opt_fx = []\r\n",
        "iteration = []\r\n",
        "\r\n",
        "for i in step_arr:\r\n",
        "  a,b = find_minimizer(my_start_x,my_tol,i)\r\n",
        "  opt_x.append(a)\r\n",
        "  opt_fx.append(evalf(a))\r\n",
        "  iteration.append(len(b)-1)\r\n",
        "\r\n",
        "\r\n",
        "plt.plot(step_arr,iteration)\r\n",
        "plt.xlabel('Step Length')\r\n",
        "plt.ylabel('No. of iterations performed')\r\n",
        "plt.show()\r\n",
        "\r\n",
        "print('\\n\\n')\r\n",
        "df = pd.DataFrame(np.array(opt_x), columns = ['Optimal_x1', 'Optimal_x2'])\r\n",
        "df['Step_length'] = step_arr\r\n",
        "df['Optimal_f(x)'] = opt_fx\r\n",
        "df['number_of_iterations'] = iteration\r\n",
        "df[['Step_length', 'Optimal_x1', 'Optimal_x2', 'Optimal_f(x)', 'number_of_iterations']]"
      ],
      "execution_count": null,
      "outputs": [
        {
          "output_type": "display_data",
          "data": {
            "image/png": "[encoded data removed]",
            "text/plain": [
              "<Figure size 432x288 with 1 Axes>"
            ]
          },
          "metadata": {
            "tags": [],
            "needs_background": "light"
          }
        },
        {
          "output_type": "stream",
          "text": [
            "\n",
            "\n",
            "\n"
          ],
          "name": "stdout"
        },
        {
          "output_type": "execute_result",
          "data": {
            "text/html": [
              "<div>\n",
              "<style scoped>\n",
              "    .dataframe tbody tr th:only-of-type {\n",
              "        vertical-align: middle;\n",
              "    }\n",
              "\n",
              "    .dataframe tbody tr th {\n",
              "        vertical-align: top;\n",
              "    }\n",
              "\n",
              "    .dataframe thead th {\n",
              "        text-align: right;\n",
              "    }\n",
              "</style>\n",
              "<table border=\"1\" class=\"dataframe\">\n",
              "  <thead>\n",
              "    <tr style=\"text-align: right;\">\n",
              "      <th></th>\n",
              "      <th>Step_length</th>\n",
              "      <th>Optimal_x1</th>\n",
              "      <th>Optimal_x2</th>\n",
              "      <th>Optimal_f(x)</th>\n",
              "      <th>number_of_iterations</th>\n",
              "    </tr>\n",
              "  </thead>\n",
              "  <tbody>\n",
              "    <tr>\n",
              "      <th>0</th>\n",
              "      <td>0.001</td>\n",
              "      <td>9.999995</td>\n",
              "      <td>-1.999999</td>\n",
              "      <td>2.498674e-11</td>\n",
              "      <td>7257</td>\n",
              "    </tr>\n",
              "    <tr>\n",
              "      <th>1</th>\n",
              "      <td>0.010</td>\n",
              "      <td>9.999995</td>\n",
              "      <td>-1.999999</td>\n",
              "      <td>2.413139e-11</td>\n",
              "      <td>720</td>\n",
              "    </tr>\n",
              "    <tr>\n",
              "      <th>2</th>\n",
              "      <td>0.050</td>\n",
              "      <td>9.999995</td>\n",
              "      <td>-1.999999</td>\n",
              "      <td>2.443239e-11</td>\n",
              "      <td>138</td>\n",
              "    </tr>\n",
              "    <tr>\n",
              "      <th>3</th>\n",
              "      <td>0.100</td>\n",
              "      <td>9.999996</td>\n",
              "      <td>-1.999999</td>\n",
              "      <td>1.678462e-11</td>\n",
              "      <td>66</td>\n",
              "    </tr>\n",
              "    <tr>\n",
              "      <th>4</th>\n",
              "      <td>0.200</td>\n",
              "      <td>9.999996</td>\n",
              "      <td>-1.999999</td>\n",
              "      <td>1.411906e-11</td>\n",
              "      <td>29</td>\n",
              "    </tr>\n",
              "    <tr>\n",
              "      <th>5</th>\n",
              "      <td>0.300</td>\n",
              "      <td>9.999996</td>\n",
              "      <td>-1.999999</td>\n",
              "      <td>1.918461e-11</td>\n",
              "      <td>16</td>\n",
              "    </tr>\n",
              "    <tr>\n",
              "      <th>6</th>\n",
              "      <td>0.400</td>\n",
              "      <td>9.999999</td>\n",
              "      <td>-2.000000</td>\n",
              "      <td>1.090519e-12</td>\n",
              "      <td>10</td>\n",
              "    </tr>\n",
              "    <tr>\n",
              "      <th>7</th>\n",
              "      <td>0.500</td>\n",
              "      <td>10.000000</td>\n",
              "      <td>-2.000000</td>\n",
              "      <td>0.000000e+00</td>\n",
              "      <td>1</td>\n",
              "    </tr>\n",
              "    <tr>\n",
              "      <th>8</th>\n",
              "      <td>0.600</td>\n",
              "      <td>9.999999</td>\n",
              "      <td>-2.000000</td>\n",
              "      <td>1.090519e-12</td>\n",
              "      <td>10</td>\n",
              "    </tr>\n",
              "    <tr>\n",
              "      <th>9</th>\n",
              "      <td>0.700</td>\n",
              "      <td>9.999996</td>\n",
              "      <td>-1.999999</td>\n",
              "      <td>1.918461e-11</td>\n",
              "      <td>16</td>\n",
              "    </tr>\n",
              "    <tr>\n",
              "      <th>10</th>\n",
              "      <td>0.800</td>\n",
              "      <td>10.000004</td>\n",
              "      <td>-2.000001</td>\n",
              "      <td>1.411906e-11</td>\n",
              "      <td>29</td>\n",
              "    </tr>\n",
              "    <tr>\n",
              "      <th>11</th>\n",
              "      <td>0.900</td>\n",
              "      <td>9.999996</td>\n",
              "      <td>-1.999999</td>\n",
              "      <td>1.678462e-11</td>\n",
              "      <td>66</td>\n",
              "    </tr>\n",
              "  </tbody>\n",
              "</table>\n",
              "</div>"
            ],
            "text/plain": [
              "    Step_length  Optimal_x1  Optimal_x2  Optimal_f(x)  number_of_iterations\n",
              "0         0.001    9.999995   -1.999999  2.498674e-11                  7257\n",
              "1         0.010    9.999995   -1.999999  2.413139e-11                   720\n",
              "2         0.050    9.999995   -1.999999  2.443239e-11                   138\n",
              "3         0.100    9.999996   -1.999999  1.678462e-11                    66\n",
              "4         0.200    9.999996   -1.999999  1.411906e-11                    29\n",
              "5         0.300    9.999996   -1.999999  1.918461e-11                    16\n",
              "6         0.400    9.999999   -2.000000  1.090519e-12                    10\n",
              "7         0.500   10.000000   -2.000000  0.000000e+00                     1\n",
              "8         0.600    9.999999   -2.000000  1.090519e-12                    10\n",
              "9         0.700    9.999996   -1.999999  1.918461e-11                    16\n",
              "10        0.800   10.000004   -2.000001  1.411906e-11                    29\n",
              "11        0.900    9.999996   -1.999999  1.678462e-11                    66"
            ]
          },
          "metadata": {
            "tags": []
          },
          "execution_count": 90
        }
      ]
    },
    {
      "cell_type": "markdown",
      "metadata": {
        "id": "TI5CVUxfbYLB"
      },
      "source": [
        "***Comment :*** *Just as in part 3 here we observe the similar relationship between the step length and the number of iterations that algorith take to find the optimak solution. As the step size increases the number of iterations decreases. Beacuse the step size is the tuning parameter that deceides the rate at which the solution moves towards the original value. It this rate is high then the algorith takes less number of iterations.*\r\n",
        "\r\n",
        "*The algorith works fine and move towards the optimal solution as me increase the step length. But after a certain point, increasing step length make algorith to jump around the optimal value. This happens if we choose a large step size, then the algorith misses the optimal value and jumps over it. So in this example step value around 0.4 seems to work fine.*"
      ]
    },
    {
      "cell_type": "markdown",
      "metadata": {
        "id": "2eUcfa_wcyfF"
      },
      "source": [
        "# Ex.1 - Part 5\r\n",
        "\r\n",
        "***For different values of the starting value of the x, with some given toleranc and the step size, optimal value of the function and the minimizers are provided with the plot. ***"
      ]
    },
    {
      "cell_type": "code",
      "metadata": {
        "colab": {
          "base_uri": "https://localhost:8080/",
          "height": 523
        },
        "id": "K1_Kqk_cIAll",
        "outputId": "c14032a1-6d0c-4c56-b827-7f98ef29b25d"
      },
      "source": [
        "my_start_x = np.array([\r\n",
        "                       [1000,1000],\r\n",
        "                       [500,100],\r\n",
        "                       [50,50],\r\n",
        "                       [10,50],\r\n",
        "                       [50,-2]\r\n",
        "                      ])\r\n",
        "step_length = 0.1\r\n",
        "my_tol = 10**(-5)\r\n",
        "\r\n",
        "opt_x = []\r\n",
        "opt_fx = []\r\n",
        "iteration = []\r\n",
        "\r\n",
        "for i in range(len(my_start_x)):\r\n",
        "  a,b = find_minimizer(my_start_x[i],my_tol,step_length)\r\n",
        "  opt_x.append(a)\r\n",
        "  opt_fx.append(evalf(a))\r\n",
        "  iteration.append(len(b)-1)\r\n",
        "\r\n",
        "\r\n",
        "plt.plot(['(1000,1000)', '(50,100)', '(50,50)', '(10,50)', '(50,-2)'],iteration)\r\n",
        "plt.xlabel('Starting Position')\r\n",
        "plt.ylabel('No. of iterations performed')\r\n",
        "plt.show()\r\n",
        "\r\n",
        "print('\\n\\n')\r\n",
        "df = pd.DataFrame(np.array(opt_x), columns = ['Optimal_x1', 'Optimal_x2'])\r\n",
        "df['Starting_x'] = ['(1000,1000)', '(50,100)', '(50,50)', '(10,50)', '(50,-2)']\r\n",
        "df['Optimal_f(x)'] = opt_fx\r\n",
        "df['number_of_iterations'] = iteration\r\n",
        "df[['Starting_x', 'Optimal_x1', 'Optimal_x2', 'Optimal_f(x)', 'number_of_iterations']]"
      ],
      "execution_count": null,
      "outputs": [
        {
          "output_type": "display_data",
          "data": {
            "image/png": "[encoded data removed]",
            "text/plain": [
              "<Figure size 432x288 with 1 Axes>"
            ]
          },
          "metadata": {
            "tags": [],
            "needs_background": "light"
          }
        },
        {
          "output_type": "stream",
          "text": [
            "\n",
            "\n",
            "\n"
          ],
          "name": "stdout"
        },
        {
          "output_type": "execute_result",
          "data": {
            "text/html": [
              "<div>\n",
              "<style scoped>\n",
              "    .dataframe tbody tr th:only-of-type {\n",
              "        vertical-align: middle;\n",
              "    }\n",
              "\n",
              "    .dataframe tbody tr th {\n",
              "        vertical-align: top;\n",
              "    }\n",
              "\n",
              "    .dataframe thead th {\n",
              "        text-align: right;\n",
              "    }\n",
              "</style>\n",
              "<table border=\"1\" class=\"dataframe\">\n",
              "  <thead>\n",
              "    <tr style=\"text-align: right;\">\n",
              "      <th></th>\n",
              "      <th>Starting_x</th>\n",
              "      <th>Optimal_x1</th>\n",
              "      <th>Optimal_x2</th>\n",
              "      <th>Optimal_f(x)</th>\n",
              "      <th>number_of_iterations</th>\n",
              "    </tr>\n",
              "  </thead>\n",
              "  <tbody>\n",
              "    <tr>\n",
              "      <th>0</th>\n",
              "      <td>(1000,1000)</td>\n",
              "      <td>10.000003</td>\n",
              "      <td>-1.999997</td>\n",
              "      <td>1.743420e-11</td>\n",
              "      <td>88</td>\n",
              "    </tr>\n",
              "    <tr>\n",
              "      <th>1</th>\n",
              "      <td>(50,100)</td>\n",
              "      <td>10.000004</td>\n",
              "      <td>-1.999999</td>\n",
              "      <td>2.049994e-11</td>\n",
              "      <td>83</td>\n",
              "    </tr>\n",
              "    <tr>\n",
              "      <th>2</th>\n",
              "      <td>(50,50)</td>\n",
              "      <td>10.000003</td>\n",
              "      <td>-1.999996</td>\n",
              "      <td>1.955196e-11</td>\n",
              "      <td>74</td>\n",
              "    </tr>\n",
              "    <tr>\n",
              "      <th>3</th>\n",
              "      <td>(10,50)</td>\n",
              "      <td>10.000000</td>\n",
              "      <td>-1.999996</td>\n",
              "      <td>1.919309e-11</td>\n",
              "      <td>73</td>\n",
              "    </tr>\n",
              "    <tr>\n",
              "      <th>4</th>\n",
              "      <td>(50,-2)</td>\n",
              "      <td>10.000004</td>\n",
              "      <td>-2.000000</td>\n",
              "      <td>1.774509e-11</td>\n",
              "      <td>72</td>\n",
              "    </tr>\n",
              "  </tbody>\n",
              "</table>\n",
              "</div>"
            ],
            "text/plain": [
              "    Starting_x  Optimal_x1  Optimal_x2  Optimal_f(x)  number_of_iterations\n",
              "0  (1000,1000)   10.000003   -1.999997  1.743420e-11                    88\n",
              "1     (50,100)   10.000004   -1.999999  2.049994e-11                    83\n",
              "2      (50,50)   10.000003   -1.999996  1.955196e-11                    74\n",
              "3      (10,50)   10.000000   -1.999996  1.919309e-11                    73\n",
              "4      (50,-2)   10.000004   -2.000000  1.774509e-11                    72"
            ]
          },
          "metadata": {
            "tags": []
          },
          "execution_count": 91
        }
      ]
    },
    {
      "cell_type": "markdown",
      "metadata": {
        "id": "q27t_hRtgzfR"
      },
      "source": [
        "***Comment :*** *In this part we observe that the optimal value of the minimizer is (10, -2). So when we start our iterations from a value that is very far from the optimal point, like (1000,1000) , then it takes many iterations to reach the optimal solution. But when we start from a position like (50,-2) which is very near the optimal solutin, then we take very less iterations to reach the final answers.*\r\n",
        "\r\n",
        "*REaching the optimal solution also depend on nthe learrning rate, if we increase the learning rate in this question from 0.1 to something larger, then we might reach our optimal solutin much faster.*"
      ]
    },
    {
      "cell_type": "code",
      "metadata": {
        "id": "7ifO1SffhwOh"
      },
      "source": [
        ""
      ],
      "execution_count": null,
      "outputs": []
    }
  ]
}